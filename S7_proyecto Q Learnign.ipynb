{
 "cells": [
  {
   "cell_type": "markdown",
   "metadata": {},
   "source": [
    "\n",
    "<img src=\"banner.png\" >"
   ]
  },
  {
   "cell_type": "markdown",
   "metadata": {},
   "source": [
    "# Proyecto semana 7: Aprendizaje por refuerzo"
   ]
  },
  {
   "cell_type": "markdown",
   "metadata": {},
   "source": [
    "<!-- En esta semana, tendrán que utilizar el aprendizaje por refuerzo para completar una tarea propuesta. **En concreto, deberán entrenar un modelo de aprendizaje para que el robot sea capaz de recorrer su entorno y llegar a un objetivo deseado.** \n",
    "\n",
    "En el laboratorio de la semana 6 del curso tuvieron la oportunidad de entrenar un algoritmo de aprendizaje por refuerzo para entrenar a su robot y que alcance una posición deseada de manera autónoma. En este proyecto se les pedirá que utilicen los mismos principios presentados en dicho laboratorio, pero en otro escenario.\n",
    "Especialmente tendrán que entrenar a su robot para resolver un laberinto con la siguiente forma:\n",
    "\n",
    "\n",
    "\n",
    "<img src=\"Figure_2.PNG\" width=\"500\">\n",
    "\n",
    "Su objetivo será entrenar a su robot para llegar la posición objetivo en la esquina superior derecha del ambiente. **Para esto deberán diseñar:**\n",
    "\n",
    "•\tLa discretización del ambiente\n",
    "\n",
    "•\tLas recompensas que recibe el agente en cada estado de su discretización\n",
    "\n",
    "•\tLa tasa de aprendizaje\n",
    "\n",
    "•\t La rutina de entrenamiento (recuerde que usted puede ir entrenando progresivamente a su robot)\n",
    "\n",
    "De acuerdo con lo establecido en la rúbrica de la semana 1, la calificación de su implementación se basará en la aplicación de su entrenamiento en 4 escenarios específicos de los uno de ellos se mantendrá oculto. Los escenarios (incluyendo el desconocido) consisten en ubicar al robot en diferentes ubicaciones iniciales en el laberinto:\n",
    "\n",
    " -->\n"
   ]
  },
  {
   "cell_type": "code",
   "execution_count": 119,
   "metadata": {},
   "outputs": [],
   "source": [
    "# Importar librerías\n",
    "import gym\n",
    "import random\n",
    "import numpy as np\n",
    "import time\n",
    "from IPython.display import clear_output\n",
    "import matplotlib.pyplot as plt"
   ]
  },
  {
   "cell_type": "markdown",
   "metadata": {},
   "source": [
    "## Codigo para modificar ambiente discretizado"
   ]
  },
  {
   "cell_type": "markdown",
   "metadata": {},
   "source": [
    "A continuación presentamos el codigo que se importaba en el laboratorio de la semana 6 para entrenar el modelo discretizado.\n",
    "Su objetivo es modificarlo de acuerdo con el escenario propuesto, de forma que logre que el robot pueda resolver el laberinto propuesto. **Es decir,  usted debe definir que número de filas y columnas tendrá su ambiente discretizado, que recompensas se obtienen en los distintos estados, y como se definen dichas recompensas**\n",
    "\n",
    "**USTED DEBE MODIFICAR ESTE CÓDIGO !!!** "
   ]
  },
  {
   "cell_type": "code",
   "execution_count": 120,
   "metadata": {},
   "outputs": [],
   "source": [
    "# Este es el codigo que se improtaba en el laboratorio de la semana 6 para entrenar el modelo discretizado.\n",
    "\n",
    "import gym\n",
    "import random\n",
    "from gym import error, spaces, utils\n",
    "from gym.utils import seeding\n",
    "\n",
    "from copy import deepcopy\n",
    "import numpy as np\n",
    "\n",
    "class RobotEnv(gym.Env):\n",
    "    '''Clase que define como se interactua con el modelo discretizado del ambiente.\n",
    "    '''\n",
    "    # Las observaciones del ambiente son parte de una lista\n",
    "    def observation(self, state):\n",
    "        return state[0] * self.cols + state[1]\n",
    "\n",
    "    def __init__(self, p_wind=0.0, obstaculos=[], pos_inicial = [1,1]):\n",
    "        self.obstaculos = obstaculos\n",
    "        # Se define el número de filas del entorno discreto\n",
    "        self.rows = 12 #5\n",
    "        # Se define el númeto de columnas del entorno discreto\n",
    "        self.cols = 12 #5\n",
    "        # Se define el punto inicial del robot, \n",
    "        # PUEDE MODIFICAR ESTA POSICION INICIAL PARA LOS DISTINTOS ESCENARIOS PROPUESTOS\n",
    "        self.start = pos_inicial #[1,1] #pos_inicial [190,10] [10,190] pero al escalar quedan [1,1] [19,1] [1,19]\n",
    "        # Se define la posición del objetivo en el entorno discretizado\n",
    "        self.goal = [10,10]\n",
    "        self.current_state = None\n",
    "        # variable de viento que no se usa en este laboratorio\n",
    "        self.wind = False\n",
    "        self.p_wind = p_wind\n",
    "\n",
    "        # Mostrar el mapa discreto\n",
    "        self.map = np.zeros((self.rows, self.cols), dtype=object)\n",
    "        self.map[:] = '-'\n",
    "        self.map[0, 1:-1] = 'X'\n",
    "        # self.map[0,0] = 'o'\n",
    "        self.map[self.goal[0],self.goal[1]] = 'G'\n",
    "\n",
    "        # Hay cuatro acciones: arriba, abajo, izquierda y derecha\n",
    "        self.action_space = spaces.Discrete(4)\n",
    "\n",
    "         # la observación es la coordenada x, y de la cuadrícula\n",
    "        self.observation_space = spaces.Discrete(self.rows*self.cols)\n",
    "\n",
    "        \n",
    "\n",
    "    # Accion de dar un paso\n",
    "    def step(self, action):\n",
    "        prev_state = self.current_state.copy()\n",
    "        new_state = deepcopy(self.current_state)\n",
    "\n",
    "        if action == 0: #derecha\n",
    "            new_state[1] = min(new_state[1]+1, self.cols-1)\n",
    "        elif action == 1: #abajo\n",
    "            new_state[0] = max(new_state[0]+1, 0)\n",
    "        elif action == 2: #izquierda\n",
    "            new_state[1] = max(new_state[1]-1, 0)\n",
    "        elif action == 3: #arriba\n",
    "            new_state[0] = min(new_state[0]-1, self.rows-1)\n",
    "        else:\n",
    "            raise Exception(\"Invalid action.\")\n",
    "\n",
    "        # Variable de viento, no necesaria\n",
    "        #self.wind = False\n",
    "\n",
    "\n",
    "        # actualizar el mapa\n",
    "        self.map[self.current_state[0], self.current_state[1]] = '-'\n",
    "        self.map[new_state[0], new_state[1]] = 'o'\n",
    "\n",
    "        # Actualizar estado\n",
    "        self.current_state = new_state\n",
    "\n",
    "        # DEFINICION DE RECOMPENSAS\n",
    "        reward = -1\n",
    "        prev_dist = np.sqrt((prev_state[0]-self.goal[0])**2 + (prev_state[1]-self.goal[1])**2)\n",
    "        curr_dist = np.sqrt((self.current_state[0]-self.goal[0])**2 + (self.current_state[1]-self.goal[1])**2)\n",
    "        reward += 5.0 * (prev_dist - curr_dist)  # Recompensa por acercarse al objetivo\n",
    "        \n",
    "        # Bonus por moverse a la derecha en el cuadrante superior izquierdo\n",
    "        if self.current_state[0] < self.rows/2 and self.current_state[1] < self.cols/2:\n",
    "            if action == 0:  # Derecha\n",
    "                reward += 1.0\n",
    "            if action == 3:  # Arriba \n",
    "                reward += 1.0\n",
    "            elif action == 1 or action == 2:  # Abajo o Izquierda\n",
    "                reward -= 1.0\n",
    "    \n",
    "        # # Recompensa por distancia al objetivo\n",
    "        # dist_to_goal = np.sqrt((self.current_state[0]-self.goal[0])**2 + \n",
    "        #                     (self.current_state[1]-self.goal[1])**2)\n",
    "        # reward += 100/(dist_to_goal + 1)  # Más recompensa cuando más cerca\n",
    "\n",
    "        # recompensa por acercarse hacia el objetivo\n",
    "        # reward += 100 /   # Más recompensa cuando más cerca\n",
    "\n",
    "        is_terminal = False\n",
    "        # definir recompensas si el robot va hacia alguna unbicación con obstaculos\n",
    "        for ob in self.obstaculos:\n",
    "            if self.current_state[0]== ob[0] and self.current_state[1]== ob[1]:\n",
    "                reward = -50\n",
    "                is_terminal = True\n",
    "        # Definir recompensa cuando llega al objetivo definido\n",
    "        if self.current_state[0] == self.goal[0] and self.current_state[1] == self.goal[1]:\n",
    "            reward = 100\n",
    "            is_terminal = True\n",
    "            # print(\"Se ha alcanzado el objetivo\")\n",
    "            # self.normal_reward = -0.01 # penalizar el movimiento una vez se llega al objetivo\n",
    "            \n",
    "        # se retorna la obsercación, la recompensa, si es un estado final, si hat viento, estado actual\n",
    "        return self.observation(self.current_state), reward, is_terminal, {\"wind\": self.wind},self.current_state\n",
    "\n",
    "    def reset(self):\n",
    "        # Reiniciar posiciones\n",
    "        self.current_state = self.start\n",
    "\n",
    "        # Reiniciar mapa\n",
    "        self.map = np.zeros((self.rows, self.cols), dtype=object)\n",
    "        self.map[:] = '-'\n",
    "        for ob in self.obstaculos:\n",
    "            self.map[ob[0],ob[1]]= 'X'\n",
    "        self.map[self.current_state[0],self.current_state[1]] = 'o'\n",
    "        self.map[self.goal[0],self.goal[1]] = 'G'\n",
    "\n",
    "        return self.observation(self.current_state)\n",
    "\n",
    "    def render(self, mode='human'):\n",
    "        print(np.flip(self.map,0))\n",
    "        with open('map.txt', 'w') as f:\n",
    "            for row in self.map:\n",
    "                f.write(' '.join(row) + '\\n')\n",
    "\n",
    "    def close(self):\n",
    "        pass\n"
   ]
  },
  {
   "cell_type": "markdown",
   "metadata": {},
   "source": [
    "## ¿Cómo interactuar con el mapa discretizado?\n"
   ]
  },
  {
   "cell_type": "markdown",
   "metadata": {},
   "source": [
    "**Su objetivo será entrenar a nuestro agente para que llegue a la posición deseada en el entorno discretizado.  Para ello, el robot tiene cuatro acciones posibles: moverse hacia la derecha, izquierda, arriba o abajo. Nuestro objetivo será que, a partir de estas recompensas, nuestro robot aprenda a llegar de forma autónoma a la posición deseada evitando los obstáculos. Es decir, que aprenda a obtener la máxima recompensa posible.**\n",
    "\n",
    "\n",
    "**DEBE REVISAR QUE PARAMETROS DESEA MODIFICAR !!!**"
   ]
  },
  {
   "cell_type": "code",
   "execution_count": 121,
   "metadata": {},
   "outputs": [
    {
     "data": {
      "text/plain": [
       "[[4, 9],\n",
       " [3, 7],\n",
       " [4, 6],\n",
       " [9, 2],\n",
       " [8, 3],\n",
       " [8, 9],\n",
       " [10, 6],\n",
       " [9, 8],\n",
       " [1, 3],\n",
       " [7, 4],\n",
       " [6, 2],\n",
       " [7, 10],\n",
       " [6, 8],\n",
       " [5, 6],\n",
       " [4, 8],\n",
       " [8, 2],\n",
       " [5, 9],\n",
       " [9, 1],\n",
       " [8, 5],\n",
       " [8, 11],\n",
       " [9, 10],\n",
       " [8, 8],\n",
       " [2, 4],\n",
       " [6, 1],\n",
       " [6, 4],\n",
       " [6, 7],\n",
       " [4, 7],\n",
       " [3, 8],\n",
       " [8, 4],\n",
       " [9, 3],\n",
       " [9, 9],\n",
       " [8, 1],\n",
       " [8, 10],\n",
       " [1, 4],\n",
       " [7, 11],\n",
       " [2, 3],\n",
       " [6, 6],\n",
       " [7, 5],\n",
       " [6, 3]]"
      ]
     },
     "execution_count": 121,
     "metadata": {},
     "output_type": "execute_result"
    }
   ],
   "source": [
    "original_obstacles = np.array([ [20,50], [100,100], [100, 20], [100, 50], [125, 75], [150, 150], [150,20], [150,180],[75,100],\n",
    "                         [50,125], [100, 125],[150,25], [75,160],[180,100],[125,190]])\n",
    "\n",
    "\n",
    "def scale_obstacles(original_obstacles):\n",
    "    scaled_obstacles = []\n",
    "    scale_factor = 200/10  # 200 original / 10 internal grid size\n",
    "    \n",
    "    for obstacle in original_obstacles:\n",
    "        # Scale coordinates\n",
    "        scaled_x = obstacle[0] / scale_factor\n",
    "        scaled_y = obstacle[1] / scale_factor\n",
    "        \n",
    "        # Add 1 to account for border\n",
    "        scaled_x += 1\n",
    "        scaled_y += 1\n",
    "        \n",
    "        # Get the floor and ceiling values\n",
    "        x_floor = int(np.floor(scaled_x))\n",
    "        x_ceil = int(np.ceil(scaled_x))\n",
    "        y_floor = int(np.floor(scaled_y))\n",
    "        y_ceil = int(np.ceil(scaled_y))\n",
    "        \n",
    "        # Base quadrant cells\n",
    "        cells = []\n",
    "        if x_floor != x_ceil or y_floor != y_ceil:  # If there's a decimal point\n",
    "            cells.extend([\n",
    "                [x_floor, y_floor],\n",
    "                [x_floor, y_ceil],\n",
    "                [x_ceil, y_floor],\n",
    "                [x_ceil, y_ceil]\n",
    "            ])\n",
    "        else:  # If it's exactly on a grid point\n",
    "            cells.append([x_floor, y_floor])\n",
    "        \n",
    "        # Fill spaces only if distance to border ≤ 1\n",
    "        if scaled_x - 1 <= 1:  # Close to left border\n",
    "            for y in range(min(y_floor, y_ceil), max(y_floor, y_ceil) + 1):\n",
    "                for x in range(1, x_floor + 1):\n",
    "                    cells.append([x, y])\n",
    "                    \n",
    "        if 11 - scaled_x <= 1:  # Close to right border\n",
    "            for y in range(min(y_floor, y_ceil), max(y_floor, y_ceil) + 1):\n",
    "                for x in range(x_ceil, 11):\n",
    "                    cells.append([x, y])\n",
    "                    \n",
    "        if scaled_y - 1 <= 1:  # Close to bottom border\n",
    "            for x in range(min(x_floor, x_ceil), max(x_floor, x_ceil) + 1):\n",
    "                for y in range(1, y_floor + 1):\n",
    "                    cells.append([x, y])\n",
    "                    \n",
    "        if 11 - scaled_y <= 1:  # Close to top border\n",
    "            for x in range(min(x_floor, x_ceil), max(x_floor, x_ceil) + 1):\n",
    "                for y in range(y_ceil, 11):\n",
    "                    cells.append([x, y])\n",
    "                    \n",
    "        scaled_obstacles.extend(cells)\n",
    "    \n",
    "    # Remove duplicates and filter invalid cells\n",
    "    scaled_obstacles = [list(x) for x in set(tuple(x) for x in scaled_obstacles)]\n",
    "    scaled_obstacles = [obs for obs in scaled_obstacles if 0 <= obs[0] <= 11 and 0 <= obs[1] <= 11]\n",
    "    \n",
    "    return scaled_obstacles\n",
    "\n",
    "obstaculos_expandidos = scale_obstacles(original_obstacles)\n",
    "obstaculos_expandidos"
   ]
  },
  {
   "cell_type": "code",
   "execution_count": 122,
   "metadata": {},
   "outputs": [
    {
     "data": {
      "text/plain": [
       "array([8.  , 3.75])"
      ]
     },
     "execution_count": 122,
     "metadata": {},
     "output_type": "execute_result"
    }
   ],
   "source": [
    "np.array([160,75]) / 20"
   ]
  },
  {
   "cell_type": "code",
   "execution_count": 123,
   "metadata": {},
   "outputs": [
    {
     "data": {
      "text/plain": [
       "[[9, 5], [9, 4]]"
      ]
     },
     "execution_count": 123,
     "metadata": {},
     "output_type": "execute_result"
    }
   ],
   "source": [
    "scale_obstacles([[160,75]])"
   ]
  },
  {
   "cell_type": "code",
   "execution_count": 124,
   "metadata": {},
   "outputs": [],
   "source": [
    "\n",
    "\n",
    "def crear_marco(rows=12, cols=12):\n",
    "    \n",
    "    marco = []\n",
    "    \n",
    "    # Agregar bordes superior e inferior\n",
    "    for j in range(cols):\n",
    "        marco.append([0, j])  # Borde superior\n",
    "        marco.append([rows-1, j])  # Borde inferior\n",
    "    \n",
    "    # Agregar bordes laterales\n",
    "    for i in range(1, rows-1):  # Excluimos esquinas para no duplicar\n",
    "        marco.append([i, 0])  # Borde izquierdo\n",
    "        marco.append([i, cols-1])  # Borde derecho\n",
    "    \n",
    "    return marco\n",
    "marco = crear_marco()\n",
    "# obstaculos_expandidos = expandir_obstaculos(ubicacion_obstaculos_discreto_original)\n",
    "ubicacion_obstaculos_discreto = obstaculos_expandidos + marco\n"
   ]
  },
  {
   "cell_type": "code",
   "execution_count": 125,
   "metadata": {},
   "outputs": [
    {
     "data": {
      "text/plain": [
       "False"
      ]
     },
     "execution_count": 125,
     "metadata": {},
     "output_type": "execute_result"
    }
   ],
   "source": [
    "any(num >= 12 for sublist in ubicacion_obstaculos_discreto for num in sublist)"
   ]
  },
  {
   "cell_type": "code",
   "execution_count": 126,
   "metadata": {},
   "outputs": [
    {
     "data": {
      "text/plain": [
       "83"
      ]
     },
     "execution_count": 126,
     "metadata": {},
     "output_type": "execute_result"
    }
   ],
   "source": [
    "len(ubicacion_obstaculos_discreto)"
   ]
  },
  {
   "cell_type": "markdown",
   "metadata": {},
   "source": [
    "A continuación se presenta un pequeño ejemplo de como interactuar con el entorno. En este se utilizan las funciones estándar de los entornos de gym como:\n",
    "\n",
    "* $\\texttt{.reset()}$: Para reiniciar el entorno.\n",
    "* $\\texttt{.step(action)}$: Para ejecutar un paso en el entrono con una acción dada por parámetro, la acción indica el movimiento del robot en un entorno dividido en cuadrantes **(0=Derecha, 1=Abajo, 2=Izquierda, 3=arriba)**. \n",
    "\n",
    "> Este método retorna:\n",
    "*   **Nuevo estado (int)**: Posición del agente en el mapa.\n",
    "*   **Recompensa (int)**: Recompensa dada por la transición de estado (-1 para cualquier movimiento, -100 si se choca con un obstaculo, y 100 si llega al objetivo)\n",
    "*   **Bandera de estado terminal (bool)**: Bandera booleana que indica si es un estado terminal.\n",
    "\n",
    "\n",
    "\n",
    "\n",
    "\n",
    "$\\texttt{.render()}$: Para renderizar en consola el entorno*\n",
    "\n",
    "\\* Opcional: No es necesario renderizar, especialmente cuando realice un gran número de simulaciones"
   ]
  },
  {
   "cell_type": "code",
   "execution_count": 127,
   "metadata": {},
   "outputs": [
    {
     "name": "stdout",
     "output_type": "stream",
     "text": [
      "[['X' 'X' 'X' 'X' 'X' 'X' 'X' 'X' 'X' 'X' 'X' 'X']\n",
      " ['X' '-' '-' '-' '-' '-' 'X' '-' '-' '-' 'G' 'X']\n",
      " ['X' 'X' 'X' 'X' '-' '-' '-' '-' 'X' 'X' 'X' 'X']\n",
      " ['X' 'X' 'X' 'X' 'X' 'X' '-' '-' 'X' 'X' 'X' 'X']\n",
      " ['X' '-' '-' '-' 'X' 'X' '-' '-' '-' '-' 'X' 'X']\n",
      " ['X' 'X' 'X' 'X' 'X' '-' 'X' 'X' 'X' '-' '-' 'X']\n",
      " ['X' '-' '-' '-' '-' '-' 'X' '-' '-' 'X' '-' 'X']\n",
      " ['X' '-' '-' '-' '-' '-' 'X' 'X' 'X' 'X' '-' 'X']\n",
      " ['X' '-' '-' '-' '-' '-' '-' 'X' 'X' '-' '-' 'X']\n",
      " ['X' '-' '-' 'X' 'X' '-' '-' '-' '-' '-' '-' 'X']\n",
      " ['X' '-' '-' 'X' 'X' '-' '-' '-' '-' '-' 'o' 'X']\n",
      " ['X' 'X' 'X' 'X' 'X' 'X' 'X' 'X' 'X' 'X' 'X' 'X']]\n",
      "State: 10\n",
      "Reward: -50\n",
      "Action: 3\n"
     ]
    }
   ],
   "source": [
    "\n",
    "\n",
    "\n",
    "# Objeto del entorno\n",
    "env = RobotEnv(obstaculos= ubicacion_obstaculos_discreto, p_wind=0.0, pos_inicial=[1,10])\n",
    "\n",
    "# Ciclo de 10 episodios\n",
    "for i in range(1):\n",
    "    # Nuevo episodio\n",
    "    print('------------------------------')\n",
    "    print('          EPISODE ' + str(i))\n",
    "    print('------------------------------')\n",
    "    time.sleep(1)\n",
    "    clear_output(wait=True)\n",
    "\n",
    "    # Se reinicia el entorno\n",
    "    env.reset()\n",
    "    done = False\n",
    "    env.render()\n",
    "    t_lim = 1\n",
    "    t = 0\n",
    "    while not done and t<t_lim:\n",
    "      # Se selecciona una acción aleatoria del espacio de acciones\n",
    "      action = env.action_space.sample()\n",
    "\n",
    "      # Se da un paso en la acción seleccionada\n",
    "      state, reward, done, info,_ = env.step(action)\n",
    "\n",
    "      # Se renderiza el entorno\n",
    "\n",
    "      # Se imprime información relevante\n",
    "      print('State: '+str(state))\n",
    "      print('Reward: '+str(reward))\n",
    "      print('Action: '+str(action))\n",
    "      time.sleep(1)\n",
    "      clear_output(wait=True)\n",
    "      t+=1\n",
    "          \n",
    "env.close()"
   ]
  },
  {
   "cell_type": "markdown",
   "metadata": {},
   "source": [
    "## Entrenar aprendizaje por refuerzo"
   ]
  },
  {
   "cell_type": "markdown",
   "metadata": {},
   "source": [
    "En el labortatorio de la semana 6 usamos un **método de Monte Carlo con múltiples visitas.** En él, se guarda una recompensa esperada por cada par estado-acción, de forma que el robot puede saber qué recompensa esperar si ejecuta una acción determinada en cada estado. El objetivo es que, a partir de esta información, el robot sea capaz de tomar la acción que aumente su recompensa esperada en cada estado. \n",
    "\n",
    "**Usted puede utilizar este mismo método o cualquier otro de su elección para el desarrollo del proyecto !!!**\n"
   ]
  },
  {
   "cell_type": "markdown",
   "metadata": {},
   "source": [
    "Lo primero a realizar es crear la tabla con los valores de la funcion de valor de los pares estado-accion (q(s,a)), y el diccionario donde se guardaran los retornos obtenidos para cada estado. Esto se hace en la siguiente linea de codigo.  "
   ]
  },
  {
   "cell_type": "code",
   "execution_count": 128,
   "metadata": {},
   "outputs": [],
   "source": [
    "def crear_q():\n",
    "    # Hay 25 estados, correspondientes a las 25 posiciones en la grilla discreta\n",
    "    #estados = [i for i in range(25)]\n",
    "    estados = [i for i in range(144)]\n",
    "    acciones = [0,1,2,3]\n",
    "    Q = {}\n",
    "    for i in range(len(estados)):\n",
    "        Q[estados[i]] = {}\n",
    "        for a in acciones:\n",
    "            Q[estados[i]][a] = 0\n",
    "    return Q\n",
    "\n",
    "def crear_retorno():\n",
    "    estados = [i for i in range(144)]\n",
    "    acciones = [0,1,2,3]\n",
    "    Q = {}\n",
    "    for i in range(len(estados)):\n",
    "        Q[estados[i]] = {}\n",
    "        for a in acciones:\n",
    "            Q[estados[i]][a] = []\n",
    "    return Q\n",
    "\n",
    "        "
   ]
  },
  {
   "cell_type": "markdown",
   "metadata": {},
   "source": [
    "Ahora creamos la función que define cómo el agente decide qué acciones tomar en cada estado durante la fase de entrenamiento. Para ello, usamos un algoritmo Epsilon Greedy, en el que el agente selecciona la acción que maximiza la recompensa esperada con una probabilidad alta, pero se crea una probabilidad de que el agente utilice una estrategia no óptima. Esto se hace para que el robot explore acciones que posiblemente no haya utilizado antes. De este modo, se muestra el dilema entre exploración y explotación en los algoritmos de aprendizaje por refuerzo.\n"
   ]
  },
  {
   "cell_type": "code",
   "execution_count": 186,
   "metadata": {},
   "outputs": [],
   "source": [
    "def seleccionar_accion(Q, estado, epsilon):\n",
    "    mejor_accion = None\n",
    "    mejor_valor = float('-inf')\n",
    "    for i in range(4):\n",
    "        if Q[estado][i] >= mejor_valor:\n",
    "            mejor_accion = i\n",
    "            mejor_valor = Q[estado][i]\n",
    "    acciones = [epsilon/4 for i in range(4)]\n",
    "    acciones[mejor_accion] = epsilon/4 + (1-epsilon)\n",
    "    accion_esc = np.random.choice([0,1,2,3], p = acciones)\n",
    "    # print(\"estado accion esc\", estado ,accion_esc)\n",
    "    return accion_esc\n",
    "    \n",
    "    "
   ]
  },
  {
   "cell_type": "markdown",
   "metadata": {},
   "source": [
    "Ahora creamos la función encargada de implementar el algoritmo de Monte Carlo de múltiples visitas. Puede leer la función para entender cómo actúa el algoritmo paso a paso."
   ]
  },
  {
   "cell_type": "markdown",
   "metadata": {},
   "source": [
    "**Note que modificamos la función de monte carlo de multiples visitas para que se pueda recibir por parametro la función de valor q que guarda los valores esperados de las recompensas por cada par estado-acción. Esto se hace para que puedan crear multiples episodios de entrenamiento de forma que se pueda ir actualizando progresivamente la tabla con los valores estimados de la recompensa de cada par estado-acción.**"
   ]
  },
  {
   "cell_type": "code",
   "execution_count": 130,
   "metadata": {},
   "outputs": [],
   "source": [
    "import tqdm\n",
    "\n",
    "def q_learning(episodios, p_viento, gamma, alpha, epsilon, funcion_q=None, epsilon_decay=0.9999, pos_inicial=[1,1]):\n",
    "    # Inicializar Q si no existe\n",
    "    if funcion_q is None:\n",
    "        funcion_q = crear_q()\n",
    "    \n",
    "    recompensa_promedio = []\n",
    "    acciones_promedio = []\n",
    "    \n",
    "    for e in tqdm.tqdm(range(episodios)):\n",
    "        # Reiniciar entorno\n",
    "        env = RobotEnv(obstaculos=ubicacion_obstaculos_discreto, pos_inicial=pos_inicial)\n",
    "        state = env.reset()\n",
    "        done = False\n",
    "        total_reward = 0\n",
    "        acciones = []\n",
    "        \n",
    "        while not done:\n",
    "            # Seleccionar acción usando política epsilon-greedy\n",
    "            action = seleccionar_accion(funcion_q, state, epsilon)\n",
    "            \n",
    "            # Ejecutar acción\n",
    "            next_state, reward, done, info, _ = env.step(action)\n",
    "            \n",
    "            # Actualizar Q usando la ecuación de Q-learning\n",
    "            max_next_q = max(funcion_q[next_state].values())\n",
    "            funcion_q[state][action] += alpha * (reward + gamma * max_next_q - funcion_q[state][action])\n",
    "            \n",
    "            # Actualizar estado\n",
    "            state = next_state\n",
    "            total_reward += reward\n",
    "            acciones.append(action)\n",
    "        \n",
    "        # Actualizar epsilon\n",
    "        epsilon = max(0.3, epsilon * epsilon_decay)\n",
    "        \n",
    "        recompensa_promedio.append(total_reward)\n",
    "        acciones_promedio.append(acciones)\n",
    "        \n",
    "    return funcion_q, recompensa_promedio, acciones_promedio"
   ]
  },
  {
   "cell_type": "markdown",
   "metadata": {},
   "source": [
    "**A continuación, aplicamos nuestro algoritmo para entrenar a nuestro robot en el entorno discreto y generar las acciones óptimas que debe tomar.**\n",
    "\n",
    "**DEBE MODIFICAR ESTE CÓDIGO DE ACUERDO A SU ESTRATEGIA DE ENTRENAMIENTO!!!**"
   ]
  },
  {
   "cell_type": "code",
   "execution_count": 131,
   "metadata": {},
   "outputs": [
    {
     "name": "stdout",
     "output_type": "stream",
     "text": [
      "Posicion inicial: [8, 6]\n"
     ]
    },
    {
     "name": "stderr",
     "output_type": "stream",
     "text": [
      "100%|██████████| 5000/5000 [00:01<00:00, 4641.70it/s]\n"
     ]
    },
    {
     "name": "stdout",
     "output_type": "stream",
     "text": [
      "Posicion inicial: [10, 1]\n",
      "Usando Q-table previamente entrenada\n"
     ]
    },
    {
     "name": "stderr",
     "output_type": "stream",
     "text": [
      "100%|██████████| 10000/10000 [00:01<00:00, 5653.01it/s]\n"
     ]
    },
    {
     "name": "stdout",
     "output_type": "stream",
     "text": [
      "Posicion inicial: [1, 10]\n",
      "Usando Q-table previamente entrenada\n"
     ]
    },
    {
     "name": "stderr",
     "output_type": "stream",
     "text": [
      "100%|██████████| 10000/10000 [00:02<00:00, 4541.01it/s]\n"
     ]
    },
    {
     "name": "stdout",
     "output_type": "stream",
     "text": [
      "Posicion inicial: [1, 1]\n",
      "Usando Q-table previamente entrenada\n"
     ]
    },
    {
     "name": "stderr",
     "output_type": "stream",
     "text": [
      "100%|██████████| 10000/10000 [00:02<00:00, 3443.68it/s]\n"
     ]
    }
   ],
   "source": [
    "# Parámetros de Q-learning\n",
    "alpha = 0.1  # Tasa de aprendizaje\n",
    "gamma = 0.99  # Factor de descuento\n",
    "epsilon_inicial = 0.9  # Exploración inicial\n",
    "epsilon_decay = 0.9999  # Decaimiento de exploración\n",
    "\n",
    "Q_table = None\n",
    "recompensas = []\n",
    "acciones = []\n",
    "\n",
    "# Entrenamiento por posiciones iniciales\n",
    "pos_iniciales = [[8,6], [10,1], [1,10], [1,1]]\n",
    "for pos_inicial in pos_iniciales:\n",
    "    print('Posicion inicial:', pos_inicial)\n",
    "    \n",
    "    if Q_table is None:\n",
    "        Q_table, recompensas_iter, acciones_iter = q_learning(\n",
    "            episodios=5000,\n",
    "            p_viento=0.0,\n",
    "            gamma=gamma,\n",
    "            alpha=alpha,\n",
    "            epsilon=epsilon_inicial,\n",
    "            funcion_q=None,\n",
    "            epsilon_decay=epsilon_decay,\n",
    "            pos_inicial=pos_inicial\n",
    "        )\n",
    "    else:\n",
    "        print(\"Usando Q-table previamente entrenada\")\n",
    "        Q_table, recompensas_iter, acciones_iter = q_learning(\n",
    "            episodios=10000,\n",
    "            p_viento=0.0,\n",
    "            gamma=gamma,\n",
    "            alpha=alpha,\n",
    "            epsilon=epsilon_inicial,\n",
    "            funcion_q=Q_table,\n",
    "            epsilon_decay=epsilon_decay,\n",
    "            pos_inicial=pos_inicial\n",
    "        )\n",
    "    \n",
    "    recompensas.extend(recompensas_iter)\n",
    "    acciones.extend(acciones_iter)"
   ]
  },
  {
   "cell_type": "code",
   "execution_count": 132,
   "metadata": {},
   "outputs": [],
   "source": [
    "# Q_table, recompensa_041_iter, acciones_mo_041_iter = qQ_table, recompensas_iter, acciones_iter = q_learning(\n",
    "#             episodios=10000,\n",
    "#             p_viento=0.0,\n",
    "#             gamma=gamma,\n",
    "#             alpha=alpha,\n",
    "#             epsilon=epsilon_inicial,\n",
    "#             funcion_q=Q_table,\n",
    "#             epsilon_decay=epsilon_decay,\n",
    "#             pos_inicial=[1,1]\n",
    "#         )\n",
    "# recompensas.extend(recompensa_041_iter)\n",
    "# acciones.extend(acciones_mo_041_iter)"
   ]
  },
  {
   "cell_type": "code",
   "execution_count": 133,
   "metadata": {},
   "outputs": [
    {
     "data": {
      "image/png": "[encoded data removed]",
      "text/plain": [
       "<Figure size 800x800 with 1 Axes>"
      ]
     },
     "metadata": {},
     "output_type": "display_data"
    }
   ],
   "source": [
    "def plot_optimal_policy(Q):\n",
    "    # Create a matrix for each action (right=0, down=1, left=2, up=3)\n",
    "    states = 144  # 12x12 grid\n",
    "    actions = 4\n",
    "    q_matrix = np.zeros((states, actions))\n",
    "    \n",
    "    # Fill the matrix with Q-values\n",
    "    for state in range(states):\n",
    "        for action in range(actions):\n",
    "            q_matrix[state, action] = Q[state][action]\n",
    "\n",
    "    # Create figure for best action plot\n",
    "    fig = plt.figure(figsize=(8, 8))\n",
    "    ax = plt.gca()\n",
    "    \n",
    "    # Get best actions\n",
    "    best_actions = np.argmax(q_matrix, axis=1).reshape(12, 12)\n",
    "\n",
    "    # print(q_matrix)\n",
    "       # Define custom colors for each action\n",
    "    custom_colors = [\n",
    "        [0.0, 0.5, 1.0, 1],    # Right - Light Blue\n",
    "        [0.5, 0.0, 0.5, 1],    # Down - Red\n",
    "        [0.0, 0.8, 0.0, 1],    # Left - Green\n",
    "        [1.0, 0.6, 0.0, 1],    # Up - Orange\n",
    "        [0.7, 0.7, 0.7, 1]     # Blocked - Gray\n",
    "    ]\n",
    "    colors = np.array(custom_colors)\n",
    "    \n",
    "    # Mark blocked cells (where all Q-values are 0 or very close to 0)\n",
    "    blocked_mask = np.all(np.abs(q_matrix.reshape(12, 12, 4)) < 1e-10, axis=2)\n",
    "    best_actions[blocked_mask] = 4  # New index for blocked cells\n",
    "    \n",
    "    im = ax.imshow(best_actions, cmap=plt.cm.colors.ListedColormap(colors))\n",
    "    \n",
    "    # Add arrows only to non-blocked cells\n",
    "    for x in range(12):\n",
    "        for y in range(12):\n",
    "            if not blocked_mask[x, y]:\n",
    "                state = x * 12 + y\n",
    "                action_values = [Q[state][action] for action in range(4)]\n",
    "                if len(set(action_values)) <= 1:\n",
    "                    print(f\"All actions for state {state} have the same value: {action_values[0]}\")\n",
    "                    continue\n",
    "                action = best_actions[x, y]\n",
    "                if action == 0:   # Right\n",
    "                    marker = '→'\n",
    "                elif action == 1: # Down \n",
    "                    marker = '↓'\n",
    "                elif action == 2: # Left\n",
    "                    marker = '←'\n",
    "                elif action == 3: # Up\n",
    "                    marker = '↑'\n",
    "                ax.text(y, x, marker, ha='center', va='center', color='white', fontsize=12)\n",
    "    \n",
    "    # Add legend\n",
    "    actions_name = ['RIGHT', 'DOWN', 'LEFT', 'UP', 'Blocked']\n",
    "    legend_elements = [plt.Line2D([0], [0], marker='s', color='w', \n",
    "                                 markerfacecolor=colors[i], markersize=10,\n",
    "                                 label=actions_name[i]) for i in range(5)]\n",
    "    ax.legend(handles=legend_elements, loc='center left', bbox_to_anchor=(1, 0.5))\n",
    "    \n",
    "    plt.title('Optimal Policy After Training', fontsize=14, pad=10)\n",
    "    plt.grid(True)\n",
    "    plt.tight_layout()\n",
    "    plt.show()\n",
    "\n",
    "# Use it like this:\n",
    "plot_optimal_policy(Q_table)"
   ]
  },
  {
   "cell_type": "code",
   "execution_count": 135,
   "metadata": {},
   "outputs": [
    {
     "name": "stdout",
     "output_type": "stream",
     "text": [
      "35000\n"
     ]
    },
    {
     "data": {
      "text/plain": [
       "Text(0.5, 0, 'Iteraciones')"
      ]
     },
     "execution_count": 135,
     "metadata": {},
     "output_type": "execute_result"
    },
    {
     "data": {
      "image/png": "[encoded data removed]",
      "text/plain": [
       "<Figure size 640x480 with 1 Axes>"
      ]
     },
     "metadata": {},
     "output_type": "display_data"
    }
   ],
   "source": [
    "print(len(recompensas))\n",
    "plt.scatter([i for i in range(len(recompensas))],recompensas)\n",
    "plt.title('Recompensa por iteraciones')\n",
    "plt.grid(True)\n",
    "plt.ylabel('Valor de la recompensa')\n",
    "plt.xlabel('Iteraciones')"
   ]
  },
  {
   "cell_type": "code",
   "execution_count": 174,
   "metadata": {},
   "outputs": [
    {
     "name": "stdout",
     "output_type": "stream",
     "text": [
      "Estado: 13\n",
      "[np.float64(110.72841125478965), np.float64(110.70841125478967), -49.99999999999997, -49.99999999999997]\n"
     ]
    }
   ],
   "source": [
    "# get me the state 10,1\n",
    "state = 1*12 + 1\n",
    "print('Estado:', state)\n",
    "action_values = [Q_table[state][action] for action in range(4)]\n",
    "print(action_values)"
   ]
  },
  {
   "cell_type": "markdown",
   "metadata": {},
   "source": [
    "A continuación podemos ver la politica optima encontrada por el robot para completar la tarea propuesta."
   ]
  },
  {
   "cell_type": "code",
   "execution_count": 190,
   "metadata": {},
   "outputs": [
    {
     "name": "stdout",
     "output_type": "stream",
     "text": [
      "[['X' 'X' 'X' 'X' 'X' 'X' 'X' 'X' 'X' 'X' 'X' 'X']\n",
      " ['X' '-' '-' '-' '-' '-' 'X' '-' '-' '-' 'o' 'X']\n",
      " ['X' 'X' 'X' 'X' '-' '-' '-' '-' 'X' 'X' 'X' 'X']\n",
      " ['X' 'X' 'X' 'X' 'X' 'X' '-' '-' 'X' 'X' 'X' 'X']\n",
      " ['X' '-' '-' '-' 'X' 'X' '-' '-' '-' '-' 'X' 'X']\n",
      " ['X' 'X' 'X' 'X' 'X' '-' 'X' 'X' 'X' '-' '-' 'X']\n",
      " ['X' '-' '-' '-' '-' '-' 'X' '-' '-' 'X' '-' 'X']\n",
      " ['X' '-' '-' '-' '-' '-' 'X' 'X' 'X' 'X' '-' 'X']\n",
      " ['X' '-' '-' '-' '-' '-' '-' 'X' 'X' '-' '-' 'X']\n",
      " ['X' '-' '-' 'X' 'X' '-' '-' '-' '-' '-' '-' 'X']\n",
      " ['X' '-' '-' 'X' 'X' '-' '-' '-' '-' '-' '-' 'X']\n",
      " ['X' 'X' 'X' 'X' 'X' 'X' 'X' 'X' 'X' 'X' 'X' 'X']]\n",
      "State: 130\n",
      "Reward: 100\n",
      "Action: 0\n"
     ]
    }
   ],
   "source": [
    "# Objeto del entorno\n",
    "# [12,16] \n",
    "pos_inicial = [1,1]\n",
    "env = RobotEnv(obstaculos= ubicacion_obstaculos_discreto, pos_inicial=pos_inicial)\n",
    "estados = []\n",
    "# Ciclo de 10 episodios\n",
    "acciones = []\n",
    "movimientos_coor = []\n",
    "for i in range(1):\n",
    "    # Nuevo episodio\n",
    "    print('------------------------------')\n",
    "    print('          EPISODE ' + str(i))\n",
    "    print('------------------------------')\n",
    "    time.sleep(1)\n",
    "    clear_output(wait=True)\n",
    "\n",
    "    # Se reinicia el entorno\n",
    "    env.reset()\n",
    "    env.render()\n",
    "    done = False\n",
    "    state = pos_inicial[0]*12 + pos_inicial[1]\n",
    "    iteraciones = 0\n",
    "    # print('Estado:', env.start)\n",
    "    # print('Estado:', state)\n",
    "    # print('Estado:', env.)\n",
    "    while not done and iteraciones< 50:\n",
    "      # Se selecciona una acción aleatoria del espacio de acciones\n",
    "      action = seleccionar_accion(Q_table,state,0.0)\n",
    "      # Se da un paso en la acción seleccionada\n",
    "      acciones.append(action)\n",
    "      state, reward, done, info, coordenadas = env.step(action)\n",
    "      movimientos_coor.append(coordenadas)\n",
    "      estados.append(state)\n",
    "      # Se renderiza el etnrono\n",
    "      env.render()\n",
    "\n",
    "      # Se imprime información relevante\n",
    "      if info['wind']:\n",
    "        print('WIND!')\n",
    "      print('State: '+str(state))\n",
    "      print('Reward: '+str(reward))\n",
    "      print('Action: '+str(action))\n",
    "      time.sleep(1)\n",
    "      clear_output(wait=True)\n",
    "      iteraciones += 1\n",
    "\n",
    "env.close()"
   ]
  },
  {
   "cell_type": "code",
   "execution_count": null,
   "metadata": {},
   "outputs": [
    {
     "name": "stdout",
     "output_type": "stream",
     "text": [
      "[['X' 'X' 'X' 'X' 'X' 'X' 'X' 'X' 'X' 'X' 'X' 'X']\n",
      " ['X' '-' '-' '-' '-' '-' 'X' '-' '-' '-' 'G' 'X']\n",
      " ['X' 'X' 'X' 'X' '-' '-' '-' '-' 'X' 'X' 'X' 'X']\n",
      " ['X' 'X' 'X' 'X' 'X' 'X' '-' '-' 'X' 'X' 'X' 'X']\n",
      " ['X' '-' '-' '-' 'X' 'X' '-' '-' '-' '-' 'X' 'X']\n",
      " ['X' 'X' 'X' 'X' 'X' '-' 'X' 'X' 'X' '-' '-' 'X']\n",
      " ['X' '-' '-' '-' '-' '-' 'X' '-' '-' 'X' '-' 'X']\n",
      " ['X' '-' '-' '-' '-' '-' 'X' 'X' 'X' 'X' '-' 'X']\n",
      " ['X' '-' '-' '-' '-' '-' '-' 'X' 'X' '-' '-' 'X']\n",
      " ['X' '-' '-' 'X' 'X' '-' '-' '-' '-' '-' '-' 'X']\n",
      " ['X' '-' '-' 'X' 'X' '-' '-' '-' '-' '-' 'o' 'X']\n",
      " ['X' 'X' 'X' 'X' 'X' 'X' 'X' 'X' 'X' 'X' 'X' 'X']]\n",
      "Estado inicial: 121\n",
      "estado accion esc 121 0\n",
      "Estado actual: 121, Acción: 0\n",
      "Nuevo estado: 23, Recompensa: -50\n"
     ]
    }
   ],
   "source": []
  },
  {
   "cell_type": "markdown",
   "metadata": {},
   "source": [
    "Ahora podemos ver gráficamente el orden en el que el robot recorre el entorno discreto."
   ]
  },
  {
   "cell_type": "code",
   "execution_count": null,
   "metadata": {},
   "outputs": [
    {
     "name": "stdout",
     "output_type": "stream",
     "text": [
      "Pasos realizados en el recorrido: \n",
      "\n",
      "[['2' '-' '-' '-' '-' '-' '-' '-' '-' '-']\n",
      " ['-' '-' '-' '-' '-' '-' '-' '-' '-' '-']\n",
      " ['1' '-' '-' '-' '-' '-' '-' '-' '-' '-']\n",
      " ['-' '-' '-' '-' '-' '-' '-' '-' '-' '-']\n",
      " ['0' '-' '-' '-' '-' '-' '-' '-' '-' '-']]\n"
     ]
    }
   ],
   "source": [
    "lista = ['-' for i in range(40000)]\n",
    "lista[0] = 0\n",
    "for i in range(len(estados)-1):\n",
    "    lista[estados[i]]= i+1\n",
    "\n",
    "\n",
    "m = np.array([lista[40:50],lista[30:40],lista[20:30],lista[10:20],lista[0:10]])\n",
    "# m = np.array([lista[20:25],lista[15:20],lista[10:15],lista[5:10],lista[0:5]])\n",
    "\n",
    "\n",
    "print('Pasos realizados en el recorrido: \\n')\n",
    "print(m)\n"
   ]
  },
  {
   "cell_type": "markdown",
   "metadata": {},
   "source": [
    "## Simulador Robótico."
   ]
  },
  {
   "cell_type": "markdown",
   "metadata": {},
   "source": [
    "Una vez entrenado nuestro controlador a alto nivel mediante aprendizaje por refuerzo, aplicaremos estas acciones en nuestro entorno virtual de trabajo a lo largo del curso."
   ]
  },
  {
   "cell_type": "code",
   "execution_count": null,
   "metadata": {},
   "outputs": [],
   "source": [
    "\"\"\"\n",
    "Implimentación simulador robotico: Esta es una versión adaptada del simulador propuesto originalmente por: Paul O'Dowd y Hemma Philamore \n",
    "https://github.com/paulodowd/GoogleColab_Simple2DSimulator\n",
    "\"\"\"\n",
    "\n",
    "\n",
    "from math import *\n",
    "import numpy as np\n",
    "from random import shuffle, randrange\n",
    "import sys\n",
    "\n",
    "import matplotlib.pyplot as plt\n",
    "\n",
    "\"\"\"\n",
    "Creación de la clase que define los obstaculos. En nuestros escenarios los obstaculos tendran forma circular.\n",
    "\"\"\"\n",
    "\n",
    "class Obstacle_c: \n",
    "  # Se asigna una posición aleatoria dentro del entorno manteniendo una distancia con el centro (donde inicia el robot)\n",
    "  def __init__(self, x_prop, y_prop, arena_size=200, radius=1, rot=0.0, max_obstacles=1):\n",
    "\n",
    "    self.radius = radius\n",
    "\n",
    "\n",
    "    rot_ang = rot * ((np.pi*2)/max_obstacles)\n",
    "    \n",
    "    rand_dist = np.random.uniform(0.1, .7) * (arena_size/2)\n",
    "    #print('arena size',arena_size/2)\n",
    "    if x_prop<0 and y_prop<0:\n",
    "      self.x = (arena_size/2) + rand_dist*np.cos(rot_ang)\n",
    "      self.y = (arena_size/2) + rand_dist*np.sin(rot_ang)\n",
    "    else:\n",
    "      self.x = x_prop\n",
    "      self.y = y_prop\n",
    "\n",
    "\n",
    "\n",
    "\n",
    "\n",
    "\"\"\"\n",
    "Clase que define el funcionamiento de cada sensor de proximidad.\n",
    "\"\"\"\n",
    "class ProxSensor_c:\n",
    "\n",
    "  # Posición global en xy del sensor\n",
    "  x = 0\n",
    "  y = 0\n",
    "  theta = 0\n",
    "\n",
    "  # Para guardar la ultima lectura \n",
    "  reading = 0\n",
    "\n",
    "  # Localizar el sensor alrededor del cuerpo del robot\n",
    "  offset_dist = 0\n",
    "  offset_angl = 0\n",
    "\n",
    "  # maximo rango de lectura en cm\n",
    "  max_range = 20\n",
    "\n",
    "  \n",
    "  def __init__(self, offset_dist=5, offset_angl=0):\n",
    "    self.offset_dist = offset_dist\n",
    "    self.offset_angl = offset_angl\n",
    "\n",
    "\n",
    "  def updateGlobalPosition(self, robot_x, robot_y, robot_theta ):\n",
    "\n",
    "    # Dirección actual del sensor es la rotación del robot\n",
    "    # mas la rotación predeterminada del sensor en relación\n",
    "    # al cuerpo del robot.\n",
    "    self.theta = self.offset_angl + robot_theta\n",
    "\n",
    "    sensor_x = (self.offset_dist*np.cos(self.theta))\n",
    "    sensor_y = (self.offset_dist*np.sin(self.theta))\n",
    "\n",
    " \n",
    "    self.x = sensor_x + robot_x\n",
    "    self.y = sensor_y + robot_y\n",
    "\n",
    "    self.reading = -1\n",
    "\n",
    "  def scanFor( self, obstruction ):\n",
    "\n",
    "    # Escanear por posibles obstaculos\n",
    "    distance = np.sqrt( ((obstruction.x - self.x)**2) + ((obstruction.y - self.y)**2) )\n",
    "    distance = distance - obstruction.radius\n",
    "\n",
    "\n",
    "    # Si esta fuera de rango, no retorna nada\n",
    "    if distance > self.max_range:\n",
    "      return\n",
    "\n",
    "    a2o = atan2( ( obstruction.y - self.y), (obstruction.x-self.x ))\n",
    "\n",
    "    angle_between = atan2( sin(self.theta-a2o),  cos(self.theta-a2o) )\n",
    "    angle_between = abs( angle_between )\n",
    "\n",
    "    \n",
    "    if angle_between > np.pi/8:\n",
    "      return\n",
    "\n",
    "  \n",
    "    if self.reading < 0:\n",
    "      self.reading = distance\n",
    "\n",
    "\n",
    "    if self.reading > 0:\n",
    "      if distance < self.reading:\n",
    "        self.reading = distance\n",
    "\n",
    "\n",
    "\n",
    "\n",
    "\n",
    "\"\"\"\n",
    "Clase que define el funcionamiento del robot\n",
    "\"\"\"\n",
    "class Robot_c:\n",
    "\n",
    "\n",
    "  def __init__(self, x=50,y=50,theta=np.pi, objetivo = [190,190,5]):\n",
    "    self.x = x\n",
    "    self.y = y\n",
    "    self.theta = np.pi/4# theta\n",
    "    self.stall = -1 # evaluar colisiones\n",
    "\n",
    "    self.desire = -1\n",
    "    self.score = 0\n",
    "    self.radius = 5 # 5cm radio\n",
    "    self.wheel_sep = self.radius*2 # Mismo tamaño de rueda a cada lado\n",
    "    self.vl = 0\n",
    "    self.vr = 0\n",
    "    self.objetivo = objetivo\n",
    "    # ubicación de los sensores en radianes\n",
    "    self.sensor_dirs = [5.986479,\n",
    "                        5.410521,\n",
    "                        4.712389,\n",
    "                        3.665191,\n",
    "                        2.617994,\n",
    "                        1.570796,\n",
    "                        0.8726646,\n",
    "                        0.296706,\n",
    "                        ]\n",
    "\n",
    "    self.prox_sensors = [] \n",
    "    for i in range(0,8):\n",
    "      self.prox_sensors.append( ProxSensor_c(self.radius, self.sensor_dirs[i]) )\n",
    "\n",
    "\n",
    "  def updatePosition( self, vl, vr ):\n",
    "    '''\n",
    "    if vl > 1.0:\n",
    "      vl = 1.0\n",
    "    if vl < -1.0:\n",
    "      vl = -1.0\n",
    "    if vr > 1.0:\n",
    "      vr = 1.0\n",
    "    if vr < -1.0:\n",
    "      vr = -1.0\n",
    "\n",
    "    self.vl = vl\n",
    "    self.vr = vr\n",
    "    '''\n",
    "    self.stall = -1\n",
    "\n",
    "    # Matriz del movimiento del robot\n",
    "    r_matrix = [(vl/2)+(vr/2),0, (vr-vl)/self.wheel_sep]\n",
    "\n",
    "    # Matriz para convertir referencia local a referencia global\n",
    "    k_matrix = [\n",
    "                [ np.cos(self.theta),-np.sin(self.theta),0],\n",
    "                [ np.sin(self.theta), np.cos(self.theta),0],\n",
    "                [0,0,1]\n",
    "               ]\n",
    "\n",
    "    result_matrix = np.matmul( k_matrix, r_matrix)\n",
    "\n",
    "    self.x += result_matrix[0]\n",
    "    self.y += result_matrix[1]\n",
    "    self.theta += result_matrix[2]\n",
    "\n",
    "    for prox_sensor in self.prox_sensors:\n",
    "      prox_sensor.updateGlobalPosition( self.x, self.y, self.theta )\n",
    "\n",
    "\n",
    "\n",
    "  \n",
    "  def updateSensors(self, obstruction ):\n",
    "\n",
    "    for prox_sensor in self.prox_sensors:\n",
    "      prox_sensor.scanFor( obstruction )\n",
    "\n",
    "  def collisionCheck(self, obstruction ):\n",
    "    distance = np.sqrt( ((obstruction.x - self.x)**2) + ((obstruction.y - self.y)**2) )\n",
    "    distance -= self.radius\n",
    "    distance -= obstruction.radius\n",
    "    if distance < 0:\n",
    "      self.stall = 1\n",
    "      angle = atan2( obstruction.y - self.y, obstruction.x - self.x)\n",
    "      self.x += distance * np.cos(angle)\n",
    "      self.y += distance * np.sin(angle)\n",
    "\n",
    "  def updateScore(self):\n",
    "    # Se define la metrica a usar para evaluar el desempeño.\n",
    "    new_score = 0\n",
    "    if self.desire == -1:\n",
    "        if abs(self.x -self.objetivo[0]) < self.objetivo[2] and abs(self.y -self.objetivo[1]) < self.objetivo[2] :\n",
    "            new_score = 100\n",
    "            self.desire = 1\n",
    "        if self.stall == 1:\n",
    "            new_score -= 5\n",
    "    self.score += new_score\n"
   ]
  },
  {
   "cell_type": "markdown",
   "metadata": {},
   "source": [
    "### Ahora creamos el controlador a bajo nivel encargado de llevar al robot a una posicion especifica\n",
    "\n",
    "**Puede usar el código como esta o modificarlo, es su elección!!!**"
   ]
  },
  {
   "cell_type": "code",
   "execution_count": null,
   "metadata": {},
   "outputs": [],
   "source": [
    "#\n",
    "# Crear un controlador con def update(self, robot):\n",
    "#\n",
    "#\n",
    "\n",
    "#\n",
    "class Controller_c:\n",
    "\n",
    "  # Esta función es llamada repetidamente para definir las acciones que debe tomar el robot.\n",
    "  def __init__(self):\n",
    "    self.giroAntes = False\n",
    "    self.angulo = 0\n",
    "\n",
    "  def update( self, my_robot , objetivo, ubicado = False):\n",
    "\n",
    "    vect_obj = np.array([objetivo[0]-my_robot.x, objetivo[1]-my_robot.y])\n",
    "    vect_rob = np.array([np.cos(my_robot.theta), np.sin(my_robot.theta) ])\n",
    "    distancia_angulo = (vect_rob[1]*vect_obj[0] -vect_rob[0]*vect_obj[1] )/(np.sqrt(vect_rob[0]**2 + vect_rob[1]**2))\n",
    "    coseno = np.dot(vect_obj, vect_rob)/(np.linalg.norm(vect_rob)*np.linalg.norm(vect_obj))\n",
    "    coseno = np.clip(coseno, -1, 1)\n",
    "    angulo = np.arccos(coseno) * np.sign(distancia_angulo)\n",
    "    # my_robot.desire es -1 si no ha llegado al objetivo, 1 de lo contrario\n",
    "    if my_robot.desire == -1:\n",
    "      if ubicado:\n",
    "          vl = 1\n",
    "          vr = 1\n",
    "      else:\n",
    "          if angulo >  0.05:\n",
    "              vl =0.1#*abs(angulo)\n",
    "              vr = -0.1#*abs(angulo)\n",
    "          elif angulo < - 0.02:\n",
    "              vl = -0.1#*abs(angulo)\n",
    "              vr = 0.1#*abs(angulo)\n",
    "          else:\n",
    "              ubicado = True\n",
    "              vl = 1\n",
    "              vr = 1\n",
    "    else:\n",
    "      vl = 0\n",
    "      vr = 0\n",
    "    \n",
    "      \n",
    "    \n",
    "\n",
    "    # El controlador siempre debe retornar esto, asi que no cambie la siguente linea\n",
    "    return vl, vr\n",
    "\n"
   ]
  },
  {
   "cell_type": "markdown",
   "metadata": {},
   "source": [
    "Volvemos a ejecutar la politica optima del robot, encontrada a alto nivel por el aprendizaje por refuerzo \n"
   ]
  },
  {
   "cell_type": "code",
   "execution_count": null,
   "metadata": {},
   "outputs": [
    {
     "name": "stdout",
     "output_type": "stream",
     "text": [
      "[['-' '-' '-' '-' '-' '-' '-' '-' '-' '-' '-' '-' '-' '-' '-' '-' '-' '-'\n",
      "  '-' 'o']\n",
      " ['-' '-' '-' '-' '-' '-' '-' '-' '-' '-' 'X' '-' '-' '-' '-' '-' '-' '-'\n",
      "  '-' '-']\n",
      " ['-' '-' '-' '-' '-' '-' '-' '-' '-' '-' '-' '-' '-' '-' '-' '-' '-' '-'\n",
      "  '-' '-']\n",
      " ['-' '-' '-' '-' '-' '-' '-' '-' '-' '-' '-' '-' '-' '-' '-' '-' '-' '-'\n",
      "  '-' '-']\n",
      " ['-' '-' 'X' '-' '-' '-' '-' '-' '-' '-' '-' '-' '-' '-' '-' 'X' '-' '-'\n",
      "  'X' '-']\n",
      " ['-' '-' '-' '-' '-' '-' '-' '-' '-' '-' '-' '-' '-' '-' '-' '-' '-' '-'\n",
      "  '-' '-']\n",
      " ['-' '-' '-' '-' '-' '-' '-' '-' '-' '-' '-' '-' '-' '-' '-' '-' '-' '-'\n",
      "  '-' '-']\n",
      " ['-' '-' '-' '-' '-' '-' '-' 'X' '-' '-' '-' '-' '-' '-' '-' '-' '-' '-'\n",
      "  '-' 'X']\n",
      " ['-' '-' '-' '-' '-' '-' '-' '-' '-' '-' '-' '-' '-' '-' '-' '-' '-' '-'\n",
      "  '-' '-']\n",
      " ['-' '-' 'X' '-' '-' 'X' '-' '-' '-' '-' 'X' '-' 'X' '-' '-' '-' '-' '-'\n",
      "  '-' '-']\n",
      " ['-' '-' '-' '-' '-' '-' '-' '-' '-' '-' '-' '-' '-' '-' '-' '-' '-' '-'\n",
      "  '-' '-']\n",
      " ['-' '-' '-' '-' '-' '-' '-' '-' '-' '-' '-' '-' '-' '-' '-' '-' '-' '-'\n",
      "  '-' '-']\n",
      " ['-' '-' '-' '-' '-' '-' '-' '-' '-' '-' 'X' '-' '-' '-' '-' '-' 'X' '-'\n",
      "  '-' '-']\n",
      " ['-' '-' '-' '-' '-' '-' '-' '-' '-' '-' '-' '-' '-' '-' '-' '-' '-' '-'\n",
      "  '-' '-']\n",
      " ['-' '-' '-' '-' '-' '-' '-' '-' '-' '-' '-' '-' 'X' '-' '-' '-' '-' '-'\n",
      "  '-' '-']\n",
      " ['-' '-' '-' '-' '-' '-' '-' '-' '-' '-' '-' '-' '-' '-' '-' '-' '-' '-'\n",
      "  '-' '-']\n",
      " ['-' '-' '-' '-' '-' '-' '-' '-' '-' '-' '-' '-' '-' '-' '-' '-' '-' '-'\n",
      "  '-' '-']\n",
      " ['-' '-' '-' '-' '-' 'X' '-' '-' '-' '-' '-' '-' '-' '-' '-' '-' '-' '-'\n",
      "  '-' '-']\n",
      " ['-' '-' '-' '-' '-' '-' '-' '-' '-' '-' '-' '-' '-' '-' '-' '-' '-' '-'\n",
      "  '-' '-']\n",
      " ['-' '-' '-' '-' '-' '-' '-' '-' '-' '-' '-' '-' '-' '-' '-' '-' '-' '-'\n",
      "  '-' '-']]\n",
      "State: 399\n",
      "Reward: 1000\n",
      "Action: 0\n"
     ]
    }
   ],
   "source": [
    "# Objeto del entorno\n",
    "env = RobotEnv(obstaculos= ubicacion_obstaculos_discreto)\n",
    "estados = []\n",
    "# Ciclo de 10 episodios\n",
    "acciones = []\n",
    "movimientos_coor = []\n",
    "for i in range(1):\n",
    "    # Nuevo episodio\n",
    "    print('------------------------------')\n",
    "    print('          EPISODE ' + str(i))\n",
    "    print('------------------------------')\n",
    "    time.sleep(1)\n",
    "    clear_output(wait=True)\n",
    "\n",
    "    # Se reinicia el entorno\n",
    "    env.reset()\n",
    "    done = False\n",
    "    state = 0\n",
    "    iteraciones = 0\n",
    "    while not done and iteraciones< 200:\n",
    "      # Se selecciona una acción aleatoria del espacio de acciones\n",
    "      action = seleccionar_accion(Q_041,state,0.0)\n",
    "      # Se da un paso en la acción seleccionada\n",
    "      acciones.append(action)\n",
    "      state, reward, done, info, coordenadas = env.step(action)\n",
    "      movimientos_coor.append(coordenadas)\n",
    "      estados.append(state)\n",
    "      # Se renderiza el etnrono\n",
    "      env.render()\n",
    "\n",
    "      # Se imprime información relevante\n",
    "      if info['wind']:\n",
    "        print('WIND!')\n",
    "      print('State: '+str(state))\n",
    "      print('Reward: '+str(reward))\n",
    "      print('Action: '+str(action))\n",
    "      time.sleep(1)\n",
    "      clear_output(wait=True)\n",
    "      iteraciones += 1\n",
    "\n",
    "env.close()"
   ]
  },
  {
   "cell_type": "code",
   "execution_count": null,
   "metadata": {},
   "outputs": [
    {
     "name": "stdout",
     "output_type": "stream",
     "text": [
      "[['1' '-' '-' '-' '-']\n",
      " ['-' '-' '-' '-' '-']\n",
      " ['-' '-' '-' '-' '-']\n",
      " ['-' '-' '-' '-' '-']\n",
      " ['0' '-' '-' '-' '-']]\n"
     ]
    }
   ],
   "source": [
    "m = np.array([lista[20:25],lista[15:20],lista[10:15],lista[5:10],lista[0:5]])\n",
    "print(m)"
   ]
  },
  {
   "cell_type": "markdown",
   "metadata": {},
   "source": [
    "\n",
    "\n",
    "**Dentro del contexto del proyecto tendrán que modificar el código que asocia los estados discretizados que desarrollo en su modelo con los centros del mapa original en donde se encuentra el agente** \n",
    "\n",
    "**TIENE QUE MODIFICAR ESTE CODIGO!!!!**\n"
   ]
  },
  {
   "cell_type": "code",
   "execution_count": null,
   "metadata": {},
   "outputs": [
    {
     "name": "stdout",
     "output_type": "stream",
     "text": [
      "Objetivos progresivos:  [[10, 20], [10, 30], [10, 40], [20, 40], [30, 40], [40, 40], [50, 40], [50, 50], [50, 60], [50, 70], [60, 70], [70, 70], [70, 80], [70, 90], [80, 90], [80, 100], [90, 100], [90, 110], [90, 120], [100, 120], [100, 130], [100, 140], [110, 140], [110, 150], [120, 150], [120, 160], [120, 170], [130, 170], [130, 180], [140, 180], [140, 190], [150, 190], [150, 200], [160, 200], [170, 200], [180, 200], [190, 200], [200, 200]]\n"
     ]
    }
   ],
   "source": [
    "# Creamos la matriz que nos asocia los centros del ambiente original con las coorednadas del ambiente discreto\n",
    "# centros = [[[i,j] for i in range(10,91,20)] for j in range(10,91,20)]\n",
    "centros = [[[i,j] for i in range(10,380,10)] for j in range(10,380,10)]\n",
    "\n",
    "# Ahora guardamos las ubicaciones progresivas de acuerdo a la politica optima dada por el aprendizaje por refuerzo\n",
    "objetivos_progresivos =[]\n",
    "for mov in range(len(movimientos_coor)):\n",
    "    #print(centros[movimientos_coor[mov][0]][movimientos_coor[mov][1]])\n",
    "    objetivos_progresivos.append(centros[movimientos_coor[mov][0]][movimientos_coor[mov][1]])\n",
    "print(\"Objetivos progresivos: \",objetivos_progresivos)\n",
    "\n",
    "# PUEDE BORRAR ESTA LINEA PARA SUS EJECUCIONES\n",
    "# objetivos_progresivos = [\n",
    "#     [20, 20],   # Esquina inferior izquierda\n",
    "#     [20, 180],  # Esquina superior izquierda \n",
    "#     [180, 20],  # Esquina inferior derecha\n",
    "#     # Puedes agregar más posiciones según necesites\n",
    "# ]\n",
    "\n"
   ]
  },
  {
   "cell_type": "code",
   "execution_count": null,
   "metadata": {},
   "outputs": [
    {
     "data": {
      "text/plain": [
       "38"
      ]
     },
     "execution_count": 373,
     "metadata": {},
     "output_type": "execute_result"
    }
   ],
   "source": [
    "len(movimientos_coor)"
   ]
  },
  {
   "cell_type": "code",
   "execution_count": null,
   "metadata": {},
   "outputs": [
    {
     "data": {
      "text/plain": [
       "[19, 19]"
      ]
     },
     "execution_count": 375,
     "metadata": {},
     "output_type": "execute_result"
    }
   ],
   "source": [
    "movimientos_coor[-1]"
   ]
  },
  {
   "cell_type": "markdown",
   "metadata": {},
   "source": [
    "Definimos la ubicación de los obstaculos presentes en el ambiente"
   ]
  },
  {
   "cell_type": "code",
   "execution_count": null,
   "metadata": {},
   "outputs": [],
   "source": [
    "ub_obstacles = np.array([ [20,50], [100,100], [100, 20], [100, 50], [125, 75], [150, 150], [150,20], [150,180],[75,100],\n",
    "                         [50,125], [100, 125],[150,25], [75,160],[180,100],[125,190]])\n",
    "\n",
    "\n",
    "\n",
    "\n",
    "num_obstacles = len(ub_obstacles)"
   ]
  },
  {
   "cell_type": "code",
   "execution_count": null,
   "metadata": {},
   "outputs": [],
   "source": [
    "# ub_obstacles//10"
   ]
  },
  {
   "cell_type": "code",
   "execution_count": null,
   "metadata": {},
   "outputs": [],
   "source": [
    "def hacer_reja():\n",
    "    inicio = 0\n",
    "    fin = 200\n",
    "    ubicaciones = []\n",
    "    for i in range(inicio,fin):\n",
    "        ubicaciones.append([inicio,i])\n",
    "        ubicaciones.append([fin,i])\n",
    "        ubicaciones.append([i,fin])\n",
    "        #if i> inicio+50:\n",
    "        ubicaciones.append([i, inicio])\n",
    "    return ubicaciones\n",
    "\n",
    "\n",
    "\n",
    "ub_obstacles2 = hacer_reja()\n",
    "num_obstacles2 = len(ub_obstacles2)"
   ]
  },
  {
   "cell_type": "markdown",
   "metadata": {},
   "source": [
    "Por último, implementamos nuestra combinación de control a alto y bajo nivel en el entorno final del robot. Como podrá ver, utilizamos el controlador definido anteriormente junto con los objetivos progresivos detectados por el algoritmo de aprendizaje por refuerzo.\n",
    "\n",
    "**TIENE QUE MODIFICAR ESTE CÓDIGO PARA UBICAR AL ROBOT EN LAS DISTINTAS POSICIONES INICIALES DESCRITAS ANTERIORMENTE**"
   ]
  },
  {
   "cell_type": "code",
   "execution_count": null,
   "metadata": {},
   "outputs": [
    {
     "name": "stderr",
     "output_type": "stream",
     "text": [
      "C:\\Users\\vic_p\\AppData\\Local\\Temp\\ipykernel_23128\\2001434693.py:45: UserWarning: color is redundantly defined by the 'color' keyword argument and the fmt string \"r-\" (-> color='r'). The keyword argument will take precedence.\n",
      "  gui_dir, = ax.plot([], [], 'r-', c=\"yellow\")\n",
      "C:\\Users\\vic_p\\AppData\\Local\\Temp\\ipykernel_23128\\2001434693.py:46: UserWarning: color is redundantly defined by the 'color' keyword argument and the fmt string \"r-\" (-> color='r'). The keyword argument will take precedence.\n",
      "  gui_sensor = ax.plot( *[[],[]]*num_sensors,'r-', c=\"red\")\n",
      "C:\\Users\\vic_p\\AppData\\Local\\Temp\\ipykernel_23128\\2001434693.py:51: UserWarning: color is redundantly defined by the 'color' keyword argument and the fmt string \"bo\" (-> color='b'). The keyword argument will take precedence.\n",
      "  gui_obstacles, = ax.plot([],[],'bo', ms=radio_obstaculos*2, c=\"orange\")\n",
      "C:\\Users\\vic_p\\AppData\\Local\\Temp\\ipykernel_23128\\2001434693.py:52: UserWarning: color is redundantly defined by the 'color' keyword argument and the fmt string \"bo\" (-> color='b'). The keyword argument will take precedence.\n",
      "  gui_obstacles2, = ax.plot([],[],'bo', ms=radio_obstaculos2*2, c=\"orange\")\n"
     ]
    },
    {
     "ename": "NameError",
     "evalue": "name 'Controller_c' is not defined",
     "output_type": "error",
     "traceback": [
      "\u001b[1;31m---------------------------------------------------------------------------\u001b[0m",
      "\u001b[1;31mNameError\u001b[0m                                 Traceback (most recent call last)",
      "Cell \u001b[1;32mIn[34], line 76\u001b[0m\n\u001b[0;32m     73\u001b[0m gui_obstacles2\u001b[38;5;241m.\u001b[39mset_data( obstacles_xy2[:,\u001b[38;5;241m0\u001b[39m], obstacles_xy2[:,\u001b[38;5;241m1\u001b[39m]  )\n\u001b[0;32m     75\u001b[0m \u001b[38;5;66;03m# ¡Una instancia de nuestro controlador!\u001b[39;00m\n\u001b[1;32m---> 76\u001b[0m my_controller \u001b[38;5;241m=\u001b[39m \u001b[43mController_c\u001b[49m()\n\u001b[0;32m     77\u001b[0m ind_objetivo\u001b[38;5;241m=\u001b[39m \u001b[38;5;241m0\u001b[39m\n\u001b[0;32m     78\u001b[0m objetivo_actual \u001b[38;5;241m=\u001b[39m objetivos_progresivos[ind_objetivo]\n",
      "\u001b[1;31mNameError\u001b[0m: name 'Controller_c' is not defined"
     ]
    },
    {
     "data": {
      "image/png": "[encoded data removed]",
      "text/plain": [
       "<Figure size 768x576 with 1 Axes>"
      ]
     },
     "metadata": {},
     "output_type": "display_data"
    }
   ],
   "source": [
    "# Ahora guaramos las ubicaciones de los obstaculos de acuerdo al entorno discretizado\n",
    "obstacles_xy = []\n",
    "for ob in ubicacion_obstaculos_discreto:\n",
    "   obstacles_xy.append(centros[ob[0]][ob[1]])\n",
    "obstacles_xy = ub_obstacles\n",
    "\n",
    "#print('Los obstaculos del entorno estan en: ', obstacles_xy)\n",
    "\n",
    "\n",
    "import numpy as np\n",
    "import matplotlib.pyplot as plt\n",
    "import matplotlib.animation as animation\n",
    "\n",
    "%matplotlib inline\n",
    "\n",
    "from matplotlib import rc\n",
    "rc('animation', html='jshtml')\n",
    "import matplotlib\n",
    "matplotlib.rcParams['animation.embed_limit'] = 2**128\n",
    "\n",
    "\n",
    "numframes = 1#600\n",
    "arena_width = 200\n",
    "#num_obstacles = 3\n",
    "num_sensors = 8\n",
    "\n",
    "\n",
    "\n",
    "fig = plt.figure(dpi=120)\n",
    "#fig.subplots_adjust(left=0, right=1, bottom=0, top=1)\n",
    "ax = fig.add_subplot(111, aspect='equal', autoscale_on=False,\n",
    "                     xlim=(0, arena_width), ylim=(0, arena_width))\n",
    "\n",
    "\n",
    "\n",
    "objetivo = [190, 190,2] # 2 es el radio del objetivo\n",
    "ax.scatter(objetivo[0], objetivo[1], s = 1*objetivo[2]**2, color = \"black\", marker='s')\n",
    "#my_robot = Robot_c(10,10,np.random.random()*np.pi*2, objetivo)\n",
    "\n",
    "## Defina la posicion inicial del robot\n",
    "my_robot = Robot_c(10,10,np.pi/4, objetivo)\n",
    "\n",
    "gui_robot, = ax.plot([], [], 'bo', ms=my_robot.radius*2)\n",
    "gui_robot.set_data([], [])\n",
    "gui_dir, = ax.plot([], [], 'r-', c=\"yellow\")\n",
    "gui_sensor = ax.plot( *[[],[]]*num_sensors,'r-', c=\"red\")\n",
    "\n",
    "radio_obstaculos = 10\n",
    "radio_obstaculos2 = 1.25\n",
    "\n",
    "gui_obstacles, = ax.plot([],[],'bo', ms=radio_obstaculos*2, c=\"orange\")\n",
    "gui_obstacles2, = ax.plot([],[],'bo', ms=radio_obstaculos2*2, c=\"orange\")\n",
    "\n",
    "\n",
    "#gui_obstacles, = ax.plot([],[],'bo', ms=2.25, c=\"orange\")\n",
    "\n",
    "obstacles = []\n",
    "num_obstacles = 0\n",
    "#obstacles_xy = [[50,50],[90,10],[10,90]]\n",
    "for i in range( num_obstacles ):\n",
    "  obstacles.append( Obstacle_c(obstacles_xy[i][0],obstacles_xy[i][1], arena_width, radio_obstaculos, i, num_obstacles) )\n",
    "  #obstacles_xy.append( [obstacles[i].x, obstacles[i].y] )\n",
    "\n",
    "obstacles_xy = np.asarray( obstacles_xy, dtype=float)\n",
    "gui_obstacles.set_data( obstacles_xy[:,0], obstacles_xy[:,1]  )\n",
    "\n",
    "obstacles_xy2 =[]\n",
    "for i in range( num_obstacles2 ):\n",
    "  obstacles.append( Obstacle_c(ub_obstacles2[i][0],ub_obstacles2[i][1], arena_width, radio_obstaculos2, i, num_obstacles2) )\n",
    "  obstacles_xy2.append( [obstacles[num_obstacles+i].x, obstacles[num_obstacles+i].y] )\n",
    "\n",
    "obstacles_xy2 = np.asarray( obstacles_xy2, dtype=float)\n",
    "gui_obstacles2.set_data( obstacles_xy2[:,0], obstacles_xy2[:,1]  )\n",
    "\n",
    "# ¡Una instancia de nuestro controlador!\n",
    "my_controller = Controller_c()\n",
    "ind_objetivo= 0\n",
    "objetivo_actual = objetivos_progresivos[ind_objetivo]\n",
    "\n",
    "def animate(i):\n",
    "\n",
    "    global ax, fig, objetivos_progresivos, objetivo_actual, ind_objetivo\n",
    "\n",
    "\n",
    "    # Usar el controlador para establecer nuevas velocidades del motor en\n",
    "    # rango [-1.0:+1.0]\n",
    "    if abs(my_robot.x-objetivo_actual[0]) < 0.2 and abs(my_robot.y-objetivo_actual[1]) < 0.2:\n",
    "      #if objetivo_actual[0] != objetivo[0] and objetivo_actual[1] != objetivo[1]: \n",
    "      ind_objetivo +=1\n",
    "      if ind_objetivo< len(objetivos_progresivos):\n",
    "        objetivo_actual = objetivos_progresivos[ind_objetivo]\n",
    "    #print(objetivo_actual)\n",
    "    vl, vr = my_controller.update( my_robot, objetivo_actual )\n",
    "\n",
    "    # Update robot position, check for collision,\n",
    "    # then update sensors.\n",
    "    my_robot.updatePosition(vl, vr)\n",
    "    for obstacle in obstacles:\n",
    "      my_robot.collisionCheck( obstacle )\n",
    "      my_robot.updateSensors( obstacle )\n",
    "\n",
    "    # Dibuja el robot, cambia el color para la colisión\n",
    "    gui_robot.set_data([my_robot.x], [my_robot.y])\n",
    "    if my_robot.stall == 1:\n",
    "      gui_robot.set_color(\"red\")\n",
    "    else:\n",
    "      gui_robot.set_color(\"blue\")\n",
    "\n",
    "    # Dibuja un pequeño indicador para que podamos ver qué\n",
    "    # mira el robot\n",
    "    tx = my_robot.x + (my_robot.radius*1.4*np.cos(my_robot.theta))\n",
    "    ty = my_robot.y + (my_robot.radius*1.4*np.sin(my_robot.theta))\n",
    "    gui_dir.set_data( (my_robot.x,tx), (my_robot.y, ty) )\n",
    "\n",
    "\n",
    "\n",
    "    # Actualiza la puntuación actual en el título\n",
    "    my_robot.updateScore()\n",
    "    #ax.set_title('Score: {0:f}'.format( my_robot.score ))\n",
    "\n",
    "    return gui_robot,\n",
    "\n",
    "plt.close()\n",
    "ani = animation.FuncAnimation(fig, animate, frames=numframes, interval=20, blit=True)\n",
    "ani\n",
    "\n",
    "\n",
    "#plt.show(ani)"
   ]
  },
  {
   "cell_type": "code",
   "execution_count": null,
   "metadata": {},
   "outputs": [],
   "source": []
  },
  {
   "cell_type": "markdown",
   "metadata": {},
   "source": [
    "# Entrega final"
   ]
  },
  {
   "cell_type": "markdown",
   "metadata": {},
   "source": [
    "Finalmente, recuerde que debe entregar un PDF con la explicación del diseño de la estrategia heurística y el análisis de los resultados obtenidos, donde analice los siguientes aspectos:\n",
    "Resultados, presente conclusiones sobre el desempeño del modelo, detecte fallos en el controlador utilizado y proponga posibles mejoras. Además, debe responder a las siguientes preguntas:\n",
    "\n",
    "\n",
    "* ¿Qué restricciones impone utilizar un algoritmo de aprendizaje por refuerzo para planear la trayectoria del robot?\n",
    "* ¿Qué pasaría si se agregan mas obstaculos que el robot no conocia en su fase de entrenamiento?\n",
    "* ¿Cómo podría complementar este código con los diseñados en las semanas 3 y 5 para resolver entornos mas complejos?\n",
    "\n",
    "\n"
   ]
  }
 ],
 "metadata": {
  "kernelspec": {
   "display_name": ".venv",
   "language": "python",
   "name": "python3"
  },
  "language_info": {
   "codemirror_mode": {
    "name": "ipython",
    "version": 3
   },
   "file_extension": ".py",
   "mimetype": "text/x-python",
   "name": "python",
   "nbconvert_exporter": "python",
   "pygments_lexer": "ipython3",
   "version": "3.9.13"
  }
 },
 "nbformat": 4,
 "nbformat_minor": 2
}
