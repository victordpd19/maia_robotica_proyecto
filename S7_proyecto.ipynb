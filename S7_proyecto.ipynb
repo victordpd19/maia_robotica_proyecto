{
 "cells": [
  {
   "cell_type": "markdown",
   "metadata": {},
   "source": [
    "\n",
    "<img src=\"banner.png\" >"
   ]
  },
  {
   "cell_type": "markdown",
   "metadata": {},
   "source": [
    "# Proyecto semana 7: Aprendizaje por refuerzo"
   ]
  },
  {
   "cell_type": "markdown",
   "metadata": {},
   "source": [
    "<!-- En esta semana, tendrán que utilizar el aprendizaje por refuerzo para completar una tarea propuesta. **En concreto, deberán entrenar un modelo de aprendizaje para que el robot sea capaz de recorrer su entorno y llegar a un objetivo deseado.** \n",
    "\n",
    "En el laboratorio de la semana 6 del curso tuvieron la oportunidad de entrenar un algoritmo de aprendizaje por refuerzo para entrenar a su robot y que alcance una posición deseada de manera autónoma. En este proyecto se les pedirá que utilicen los mismos principios presentados en dicho laboratorio, pero en otro escenario.\n",
    "Especialmente tendrán que entrenar a su robot para resolver un laberinto con la siguiente forma:\n",
    "\n",
    "\n",
    "\n",
    "<img src=\"Figure_2.PNG\" width=\"500\">\n",
    "\n",
    "Su objetivo será entrenar a su robot para llegar la posición objetivo en la esquina superior derecha del ambiente. **Para esto deberán diseñar:**\n",
    "\n",
    "•\tLa discretización del ambiente\n",
    "\n",
    "•\tLas recompensas que recibe el agente en cada estado de su discretización\n",
    "\n",
    "•\tLa tasa de aprendizaje\n",
    "\n",
    "•\t La rutina de entrenamiento (recuerde que usted puede ir entrenando progresivamente a su robot)\n",
    "\n",
    "De acuerdo con lo establecido en la rúbrica de la semana 1, la calificación de su implementación se basará en la aplicación de su entrenamiento en 4 escenarios específicos de los uno de ellos se mantendrá oculto. Los escenarios (incluyendo el desconocido) consisten en ubicar al robot en diferentes ubicaciones iniciales en el laberinto:\n",
    "\n",
    " -->\n"
   ]
  },
  {
   "cell_type": "code",
   "execution_count": 575,
   "metadata": {},
   "outputs": [],
   "source": [
    "# Importar librerías\n",
    "import gym\n",
    "import random\n",
    "import numpy as np\n",
    "import time\n",
    "from IPython.display import clear_output\n",
    "import matplotlib.pyplot as plt"
   ]
  },
  {
   "cell_type": "markdown",
   "metadata": {},
   "source": [
    "## Codigo para modificar ambiente discretizado"
   ]
  },
  {
   "cell_type": "markdown",
   "metadata": {},
   "source": [
    "A continuación presentamos el codigo que se importaba en el laboratorio de la semana 6 para entrenar el modelo discretizado.\n",
    "Su objetivo es modificarlo de acuerdo con el escenario propuesto, de forma que logre que el robot pueda resolver el laberinto propuesto. **Es decir,  usted debe definir que número de filas y columnas tendrá su ambiente discretizado, que recompensas se obtienen en los distintos estados, y como se definen dichas recompensas**\n",
    "\n",
    "**USTED DEBE MODIFICAR ESTE CÓDIGO !!!** "
   ]
  },
  {
   "cell_type": "code",
   "execution_count": 576,
   "metadata": {},
   "outputs": [],
   "source": [
    "# Este es el codigo que se improtaba en el laboratorio de la semana 6 para entrenar el modelo discretizado.\n",
    "\n",
    "import gym\n",
    "import random\n",
    "from gym import error, spaces, utils\n",
    "from gym.utils import seeding\n",
    "\n",
    "from copy import deepcopy\n",
    "import numpy as np\n",
    "\n",
    "class RobotEnv(gym.Env):\n",
    "    '''Clase que define como se interactua con el modelo discretizado del ambiente.\n",
    "    '''\n",
    "    # Las observaciones del ambiente son parte de una lista\n",
    "    def observation(self, state):\n",
    "        return state[0] * self.cols + state[1]\n",
    "\n",
    "    def __init__(self, p_wind=0.0, obstaculos=[], pos_inicial = [1,1]):\n",
    "        self.obstaculos = obstaculos\n",
    "        # Se define el número de filas del entorno discreto\n",
    "        self.rows = 21 #5\n",
    "        # Se define el númeto de columnas del entorno discreto\n",
    "        self.cols = 21 #5\n",
    "        # Se define el punto inicial del robot, \n",
    "        # PUEDE MODIFICAR ESTA POSICION INICIAL PARA LOS DISTINTOS ESCENARIOS PROPUESTOS\n",
    "        self.start = pos_inicial #[1,1] #pos_inicial [190,10] [10,190] pero al escalar quedan [1,1] [19,1] [1,19]\n",
    "        # Se define la posición del objetivo en el entorno discretizado\n",
    "        self.goal = [19,19]\n",
    "        self.current_state = None\n",
    "        # variable de viento que no se usa en este laboratorio\n",
    "        self.wind = False\n",
    "        self.p_wind = p_wind\n",
    "\n",
    "        # Mostrar el mapa discreto\n",
    "        self.map = np.zeros((self.rows, self.cols), dtype=object)\n",
    "        self.map[:] = '-'\n",
    "        self.map[0, 1:-1] = 'X'\n",
    "        # self.map[0,0] = 'o'\n",
    "        self.map[self.goal[0],self.goal[1]] = 'G'\n",
    "\n",
    "        # Hay cuatro acciones: arriba, abajo, izquierda y derecha\n",
    "        self.action_space = spaces.Discrete(4)\n",
    "\n",
    "         # la observación es la coordenada x, y de la cuadrícula\n",
    "        self.observation_space = spaces.Discrete(self.rows*self.cols)\n",
    "\n",
    "        self.normal_reward = 0\n",
    "\n",
    "    # Accion de dar un paso\n",
    "    def step(self, action):\n",
    "        new_state = deepcopy(self.current_state)\n",
    "\n",
    "        if action == 0: #derecha\n",
    "            new_state[1] = min(new_state[1]+1, self.cols-1)\n",
    "        elif action == 1: #abajo\n",
    "            new_state[0] = max(new_state[0]-1, 0)\n",
    "        elif action == 2: #izquierda\n",
    "            new_state[1] = max(new_state[1]-1, 0)\n",
    "        elif action == 3: #arriba\n",
    "            new_state[0] = min(new_state[0]+1, self.rows-1)\n",
    "        else:\n",
    "            raise Exception(\"Invalid action.\")\n",
    "\n",
    "        # Variable de viento, no necesaria\n",
    "        #self.wind = False\n",
    "\n",
    "\n",
    "        # actualizar el mapa\n",
    "        self.map[self.current_state[0], self.current_state[1]] = '-'\n",
    "        self.map[new_state[0], new_state[1]] = 'o'\n",
    "\n",
    "        # Actualizar estado\n",
    "        self.current_state = new_state\n",
    "\n",
    "        # DEFINICION DE RECOMPENSAS\n",
    "        reward = -1\n",
    "    \n",
    "        # Recompensa por distancia al objetivo\n",
    "        dist_to_goal = np.sqrt((self.current_state[0]-self.goal[0])**2 + \n",
    "                            (self.current_state[1]-self.goal[1])**2)\n",
    "        reward += 100/(dist_to_goal + 1)  # Más recompensa cuando más cerca\n",
    "\n",
    "        is_terminal = False\n",
    "        # definir recompensas si el robot va hacia alguna unbicación con obstaculos\n",
    "        for ob in self.obstaculos:\n",
    "            if self.current_state[0]== ob[0] and self.current_state[1]== ob[1]:\n",
    "                reward = -50\n",
    "                is_terminal = True\n",
    "        # Definir recompensa cuando llega al objetivo definido\n",
    "        if self.current_state[0] == self.goal[0] and self.current_state[1] == self.goal[1]:\n",
    "            reward = 10000\n",
    "            is_terminal = True\n",
    "            # print(\"Se ha alcanzado el objetivo\")\n",
    "            # self.normal_reward = -0.01 # penalizar el movimiento una vez se llega al objetivo\n",
    "            \n",
    "        # se retorna la obsercación, la recompensa, si es un estado final, si hat viento, estado actual\n",
    "        return self.observation(self.current_state), reward, is_terminal, {\"wind\": self.wind},self.current_state\n",
    "\n",
    "    def reset(self):\n",
    "        # Reiniciar posiciones\n",
    "        self.current_state = self.start\n",
    "\n",
    "        # Reiniciar mapa\n",
    "        self.map = np.zeros((self.rows, self.cols), dtype=object)\n",
    "        self.map[:] = '-'\n",
    "        for ob in self.obstaculos:\n",
    "            self.map[ob[0],ob[1]]= 'X'\n",
    "        self.map[self.current_state[0],self.current_state[1]] = 'o'\n",
    "        self.map[self.goal[0],self.goal[1]] = 'G'\n",
    "\n",
    "        return self.observation(self.current_state)\n",
    "\n",
    "    def render(self, mode='human'):\n",
    "        print(np.flip(self.map,0))\n",
    "        with open('map.txt', 'w') as f:\n",
    "            for row in self.map:\n",
    "                f.write(' '.join(row) + '\\n')\n",
    "\n",
    "    def close(self):\n",
    "        pass\n"
   ]
  },
  {
   "cell_type": "markdown",
   "metadata": {},
   "source": [
    "## ¿Cómo interactuar con el mapa discretizado?\n"
   ]
  },
  {
   "cell_type": "markdown",
   "metadata": {},
   "source": [
    "**Su objetivo será entrenar a nuestro agente para que llegue a la posición deseada en el entorno discretizado.  Para ello, el robot tiene cuatro acciones posibles: moverse hacia la derecha, izquierda, arriba o abajo. Nuestro objetivo será que, a partir de estas recompensas, nuestro robot aprenda a llegar de forma autónoma a la posición deseada evitando los obstáculos. Es decir, que aprenda a obtener la máxima recompensa posible.**\n",
    "\n",
    "\n",
    "**DEBE REVISAR QUE PARAMETROS DESEA MODIFICAR !!!**"
   ]
  },
  {
   "cell_type": "code",
   "execution_count": 577,
   "metadata": {},
   "outputs": [
    {
     "data": {
      "text/plain": [
       "array([[ 2,  5],\n",
       "       [10, 10],\n",
       "       [10,  2],\n",
       "       [10,  5],\n",
       "       [12,  7],\n",
       "       [15, 15],\n",
       "       [15,  2],\n",
       "       [15, 18],\n",
       "       [ 7, 10],\n",
       "       [ 5, 12],\n",
       "       [10, 12],\n",
       "       [15,  2],\n",
       "       [ 7, 16],\n",
       "       [18, 10],\n",
       "       [12, 19]])"
      ]
     },
     "execution_count": 577,
     "metadata": {},
     "output_type": "execute_result"
    }
   ],
   "source": [
    "np.array([ [20,50], [100,100], [100, 20], [100, 50], [125, 75], [150, 150], [150,20], [150,180],[75,100],\n",
    "                         [50,125], [100, 125],[150,25], [75,160],[180,100],[125,190]])//10"
   ]
  },
  {
   "cell_type": "code",
   "execution_count": 578,
   "metadata": {},
   "outputs": [],
   "source": [
    "# Puede utilizar esta linea de código para definr la ubicación de los obstaculos, o puede hacerlo directamente en la clase \n",
    "ubicacion_obstaculos_discreto_original = [[ 2,  5],\n",
    "                                [10, 10],\n",
    "                                [10,  2],\n",
    "                                [10,  5],\n",
    "                                [12,  7],\n",
    "                                [15, 15],\n",
    "                                [15,  2],\n",
    "                                [15, 18],\n",
    "                                [ 7, 10],\n",
    "                                [ 5, 12],\n",
    "                                [10, 12],\n",
    "                                [15,  2],\n",
    "                                [ 7, 16],\n",
    "                                [18, 10],\n",
    "                                [12, 19]]\n",
    "\n",
    "\n",
    "def crear_marco(rows=21, cols=21):\n",
    "    \n",
    "    marco = []\n",
    "    \n",
    "    # Agregar bordes superior e inferior\n",
    "    for j in range(cols):\n",
    "        marco.append([0, j])  # Borde superior\n",
    "        marco.append([rows-1, j])  # Borde inferior\n",
    "    \n",
    "    # Agregar bordes laterales\n",
    "    for i in range(1, rows-1):  # Excluimos esquinas para no duplicar\n",
    "        marco.append([i, 0])  # Borde izquierdo\n",
    "        marco.append([i, cols-1])  # Borde derecho\n",
    "    \n",
    "    return marco\n",
    "\n",
    "def expandir_obstaculos(obstaculos_base, rows=21, cols=21):\n",
    "    obstaculos_expandidos = []\n",
    "    # Direcciones para crear puntos alrededor del centro (patrón hexagonal)\n",
    "    direcciones = [\n",
    "        [-1, -1],  # arriba-izquierda\n",
    "        [-1, 0],   # arriba\n",
    "        [-1, 1],   # arriba-derecha\n",
    "        [0, -1],   # izquierda\n",
    "        [0, 1],    # derecha\n",
    "        [1, -1],   # abajo-izquierda\n",
    "        [1, 0],    # abajo\n",
    "        [1, 1]     # abajo-derecha\n",
    "    ]\n",
    "    \n",
    "    for centro in obstaculos_base:\n",
    "        # Agregar el centro original\n",
    "        obstaculos_expandidos.append(centro)\n",
    "        # Agregar los 6 puntos alrededor si están dentro de los límites\n",
    "        for dx, dy in direcciones:\n",
    "            nuevo_x = centro[0] + dx\n",
    "            nuevo_y = centro[1] + dy\n",
    "            # Verificar que el nuevo punto está dentro de los límites\n",
    "            if (0 <= nuevo_x < rows and \n",
    "                0 <= nuevo_y < cols and \n",
    "                [nuevo_x, nuevo_y] not in obstaculos_expandidos):\n",
    "                obstaculos_expandidos.append([nuevo_x, nuevo_y])\n",
    "                # print(f\"Agregado punto: [{nuevo_x}, {nuevo_y}]\")\n",
    "    \n",
    "    return obstaculos_expandidos\n",
    "\n",
    "# Expandir la lista original\n",
    "marco = crear_marco()\n",
    "obstaculos_expandidos = expandir_obstaculos(ubicacion_obstaculos_discreto_original)\n",
    "ubicacion_obstaculos_discreto = obstaculos_expandidos + marco\n",
    "\n",
    "\n",
    "# ubicacion_obstaculos_discreto = [ [20,50], [100,100], [100, 20], [100, 50], [125, 75], [150, 150], [150,20], [150,180],[75,100],\n",
    "#                          [50,125], [100, 125],[150,25], [75,160],[180,100],[125,190]]"
   ]
  },
  {
   "cell_type": "code",
   "execution_count": 579,
   "metadata": {},
   "outputs": [
    {
     "data": {
      "text/plain": [
       "False"
      ]
     },
     "execution_count": 579,
     "metadata": {},
     "output_type": "execute_result"
    }
   ],
   "source": [
    "any(num >= 21 for sublist in ubicacion_obstaculos_discreto for num in sublist)"
   ]
  },
  {
   "cell_type": "code",
   "execution_count": 580,
   "metadata": {},
   "outputs": [
    {
     "data": {
      "text/plain": [
       "202"
      ]
     },
     "execution_count": 580,
     "metadata": {},
     "output_type": "execute_result"
    }
   ],
   "source": [
    "len(ubicacion_obstaculos_discreto)"
   ]
  },
  {
   "cell_type": "markdown",
   "metadata": {},
   "source": [
    "A continuación se presenta un pequeño ejemplo de como interactuar con el entorno. En este se utilizan las funciones estándar de los entornos de gym como:\n",
    "\n",
    "* $\\texttt{.reset()}$: Para reiniciar el entorno.\n",
    "* $\\texttt{.step(action)}$: Para ejecutar un paso en el entrono con una acción dada por parámetro, la acción indica el movimiento del robot en un entorno dividido en cuadrantes **(0=Derecha, 1=Abajo, 2=Izquierda, 3=arriba)**. \n",
    "\n",
    "> Este método retorna:\n",
    "*   **Nuevo estado (int)**: Posición del agente en el mapa.\n",
    "*   **Recompensa (int)**: Recompensa dada por la transición de estado (-1 para cualquier movimiento, -100 si se choca con un obstaculo, y 100 si llega al objetivo)\n",
    "*   **Bandera de estado terminal (bool)**: Bandera booleana que indica si es un estado terminal.\n",
    "\n",
    "\n",
    "\n",
    "\n",
    "\n",
    "$\\texttt{.render()}$: Para renderizar en consola el entorno*\n",
    "\n",
    "\\* Opcional: No es necesario renderizar, especialmente cuando realice un gran número de simulaciones"
   ]
  },
  {
   "cell_type": "code",
   "execution_count": 581,
   "metadata": {},
   "outputs": [
    {
     "name": "stdout",
     "output_type": "stream",
     "text": [
      "[['X' 'X' 'X' 'X' 'X' 'X' 'X' 'X' 'X' 'X' 'X' 'X' 'X' 'X' 'X' 'X' 'X' 'X'\n",
      "  'X' 'X' 'X']\n",
      " ['X' '-' '-' '-' '-' '-' '-' '-' '-' 'X' 'X' 'X' '-' '-' '-' '-' '-' '-'\n",
      "  '-' 'G' 'X']\n",
      " ['X' '-' '-' '-' '-' '-' '-' '-' '-' 'X' 'X' 'X' '-' '-' '-' '-' '-' '-'\n",
      "  '-' '-' 'X']\n",
      " ['X' '-' '-' '-' '-' '-' '-' '-' '-' 'X' 'X' 'X' '-' '-' '-' '-' '-' '-'\n",
      "  '-' '-' 'X']\n",
      " ['X' 'X' 'X' 'X' '-' '-' '-' '-' '-' '-' '-' '-' '-' '-' 'X' 'X' 'X' 'X'\n",
      "  'X' 'X' 'X']\n",
      " ['X' 'X' 'X' 'X' '-' '-' '-' '-' '-' '-' '-' '-' '-' '-' 'X' 'X' 'X' 'X'\n",
      "  'X' 'X' 'X']\n",
      " ['X' 'X' 'X' 'X' '-' '-' '-' '-' '-' '-' 'o' '-' '-' '-' 'X' 'X' 'X' 'X'\n",
      "  'X' 'X' 'X']\n",
      " ['X' '-' '-' '-' '-' '-' 'X' 'X' 'X' '-' '-' '-' '-' '-' '-' '-' '-' '-'\n",
      "  'X' 'X' 'X']\n",
      " ['X' '-' '-' '-' '-' '-' 'X' 'X' 'X' '-' '-' '-' '-' '-' '-' '-' '-' '-'\n",
      "  'X' 'X' 'X']\n",
      " ['X' 'X' 'X' 'X' 'X' 'X' 'X' 'X' 'X' 'X' 'X' 'X' 'X' 'X' '-' '-' '-' '-'\n",
      "  'X' 'X' 'X']\n",
      " ['X' 'X' 'X' 'X' 'X' 'X' 'X' '-' '-' 'X' 'X' 'X' 'X' 'X' '-' '-' '-' '-'\n",
      "  '-' '-' 'X']\n",
      " ['X' 'X' 'X' 'X' 'X' 'X' 'X' '-' '-' 'X' 'X' 'X' 'X' 'X' '-' '-' '-' '-'\n",
      "  '-' '-' 'X']\n",
      " ['X' '-' '-' '-' '-' '-' '-' '-' '-' 'X' 'X' 'X' '-' '-' '-' 'X' 'X' 'X'\n",
      "  '-' '-' 'X']\n",
      " ['X' '-' '-' '-' '-' '-' '-' '-' '-' 'X' 'X' 'X' '-' '-' '-' 'X' 'X' 'X'\n",
      "  '-' '-' 'X']\n",
      " ['X' '-' '-' '-' '-' '-' '-' '-' '-' 'X' 'X' 'X' 'X' 'X' '-' 'X' 'X' 'X'\n",
      "  '-' '-' 'X']\n",
      " ['X' '-' '-' '-' '-' '-' '-' '-' '-' '-' '-' 'X' 'X' 'X' '-' '-' '-' '-'\n",
      "  '-' '-' 'X']\n",
      " ['X' '-' '-' '-' '-' '-' '-' '-' '-' '-' '-' 'X' 'X' 'X' '-' '-' '-' '-'\n",
      "  '-' '-' 'X']\n",
      " ['X' '-' '-' '-' 'X' 'X' 'X' '-' '-' '-' '-' '-' '-' '-' '-' '-' '-' '-'\n",
      "  '-' '-' 'X']\n",
      " ['X' '-' '-' '-' 'X' 'X' 'X' '-' '-' '-' '-' '-' '-' '-' '-' '-' '-' '-'\n",
      "  '-' '-' 'X']\n",
      " ['X' '-' '-' '-' 'X' 'X' 'X' '-' '-' '-' '-' '-' '-' '-' '-' '-' '-' '-'\n",
      "  '-' '-' 'X']\n",
      " ['X' 'X' 'X' 'X' 'X' 'X' 'X' 'X' 'X' 'X' 'X' 'X' 'X' 'X' 'X' 'X' 'X' 'X'\n",
      "  'X' 'X' 'X']]\n",
      "State: 304\n",
      "Reward: 7.852981086654285\n",
      "Action: 1\n"
     ]
    }
   ],
   "source": [
    "\n",
    "\n",
    "\n",
    "# Objeto del entorno\n",
    "env = RobotEnv(obstaculos= ubicacion_obstaculos_discreto, p_wind=0.0, pos_inicial=[15,10])\n",
    "\n",
    "# Ciclo de 10 episodios\n",
    "for i in range(1):\n",
    "    # Nuevo episodio\n",
    "    print('------------------------------')\n",
    "    print('          EPISODE ' + str(i))\n",
    "    print('------------------------------')\n",
    "    time.sleep(1)\n",
    "    clear_output(wait=True)\n",
    "\n",
    "    # Se reinicia el entorno\n",
    "    env.reset()\n",
    "    done = False\n",
    "    t_lim = 1\n",
    "    t = 0\n",
    "    while not done and t<t_lim:\n",
    "      # Se selecciona una acción aleatoria del espacio de acciones\n",
    "      action = env.action_space.sample()\n",
    "\n",
    "      # Se da un paso en la acción seleccionada\n",
    "      state, reward, done, info,_ = env.step(action)\n",
    "\n",
    "      # Se renderiza el entorno\n",
    "      env.render()\n",
    "    #   with open('map.txt', 'w') as f:\n",
    "    #       for row in np.flip(env.map, ):\n",
    "    #           f.write(''.join(row) + '\\n')\n",
    "\n",
    "      # Se imprime información relevante\n",
    "      print('State: '+str(state))\n",
    "      print('Reward: '+str(reward))\n",
    "      print('Action: '+str(action))\n",
    "      time.sleep(1)\n",
    "      clear_output(wait=True)\n",
    "      t+=1\n",
    "          \n",
    "env.close()"
   ]
  },
  {
   "cell_type": "markdown",
   "metadata": {},
   "source": [
    "## Entrenar aprendizaje por refuerzo"
   ]
  },
  {
   "cell_type": "markdown",
   "metadata": {},
   "source": [
    "En el labortatorio de la semana 6 usamos un **método de Monte Carlo con múltiples visitas.** En él, se guarda una recompensa esperada por cada par estado-acción, de forma que el robot puede saber qué recompensa esperar si ejecuta una acción determinada en cada estado. El objetivo es que, a partir de esta información, el robot sea capaz de tomar la acción que aumente su recompensa esperada en cada estado. \n",
    "\n",
    "**Usted puede utilizar este mismo método o cualquier otro de su elección para el desarrollo del proyecto !!!**\n"
   ]
  },
  {
   "cell_type": "markdown",
   "metadata": {},
   "source": [
    "Lo primero a realizar es crear la tabla con los valores de la funcion de valor de los pares estado-accion (q(s,a)), y el diccionario donde se guardaran los retornos obtenidos para cada estado. Esto se hace en la siguiente linea de codigo.  "
   ]
  },
  {
   "cell_type": "code",
   "execution_count": 582,
   "metadata": {},
   "outputs": [],
   "source": [
    "def crear_q():\n",
    "    # Hay 25 estados, correspondientes a las 25 posiciones en la grilla discreta\n",
    "    #estados = [i for i in range(25)]\n",
    "    estados = [i for i in range(441)]\n",
    "    acciones = [0,1,2,3]\n",
    "    Q = {}\n",
    "    for i in range(len(estados)):\n",
    "        Q[estados[i]] = {}\n",
    "        for a in acciones:\n",
    "            Q[estados[i]][a] = 0\n",
    "    return Q\n",
    "\n",
    "def crear_retorno():\n",
    "    estados = [i for i in range(441)]\n",
    "    acciones = [0,1,2,3]\n",
    "    Q = {}\n",
    "    for i in range(len(estados)):\n",
    "        Q[estados[i]] = {}\n",
    "        for a in acciones:\n",
    "            Q[estados[i]][a] = []\n",
    "    return Q\n",
    "\n",
    "        "
   ]
  },
  {
   "cell_type": "markdown",
   "metadata": {},
   "source": [
    "Ahora creamos la función que define cómo el agente decide qué acciones tomar en cada estado durante la fase de entrenamiento. Para ello, usamos un algoritmo Epsilon Greedy, en el que el agente selecciona la acción que maximiza la recompensa esperada con una probabilidad alta, pero se crea una probabilidad de que el agente utilice una estrategia no óptima. Esto se hace para que el robot explore acciones que posiblemente no haya utilizado antes. De este modo, se muestra el dilema entre exploración y explotación en los algoritmos de aprendizaje por refuerzo.\n"
   ]
  },
  {
   "cell_type": "code",
   "execution_count": 583,
   "metadata": {},
   "outputs": [],
   "source": [
    "def seleccionar_accion(Q, estado, epsilon):\n",
    "    mejor_accion = 0\n",
    "    mejor_valor = Q[estado][0]\n",
    "    for i in range(4):\n",
    "        if Q[estado][i] >= mejor_valor:\n",
    "            mejor_accion = i\n",
    "            mejor_valor = Q[estado][i]\n",
    "    acciones = [epsilon/4 for i in range(4)]\n",
    "    acciones[mejor_accion] = epsilon/4 + (1-epsilon)\n",
    "    accion_esc = np.random.choice([0,1,2,3], p = acciones)\n",
    "    # print(accion_esc)\n",
    "    return accion_esc\n",
    "    \n",
    "    "
   ]
  },
  {
   "cell_type": "code",
   "execution_count": 584,
   "metadata": {},
   "outputs": [],
   "source": [
    "# creamos una función encargada de crear los episodios de entrenamiento del robot\n",
    "\n",
    "def crear_episodio(p_viento, Q, epsilon, pos_inicial):\n",
    "    # Se reinicia el entorno\n",
    "    # Vea que tiene la opción de definir una ubicación inicial como parametro\n",
    "    env = RobotEnv(obstaculos= ubicacion_obstaculos_discreto, pos_inicial= pos_inicial)\n",
    "    # print(env.start)\n",
    "    env.reset()\n",
    "    done = False\n",
    "    estados = []\n",
    "    recompensas = []\n",
    "    viento = []\n",
    "    acciones = []\n",
    "    inicio = True\n",
    "    state1 = 0\n",
    "    state = 0\n",
    "    retorno = 0\n",
    "    tlim= 100\n",
    "    t = 0\n",
    "    while not done and t<1000:\n",
    "        # Se selecciona una acción aleatoria del espacio de acciones\n",
    "        action = seleccionar_accion(Q,state,epsilon)\n",
    "        acciones.append(action)\n",
    "        estados.append(state)\n",
    "        # Se da un paso en la acción seleccionada\n",
    "        state, reward, done, info,_ = env.step(action)\n",
    "        #estados.append(state1)\n",
    "        recompensas.append(reward)\n",
    "        #retorno += reward\n",
    "        viento.append(info)\n",
    "        t+= 1\n",
    "        if done:\n",
    "            # print('done')\n",
    "            pass\n",
    "    env.close()\n",
    "    return estados,recompensas,viento, acciones\n",
    "         "
   ]
  },
  {
   "cell_type": "markdown",
   "metadata": {},
   "source": [
    "Dentro de nuestro algoritmo, vamos a crear una política que indicará al robot qué acción debe tomar en cada estado. El objetivo de la fase de entrenamiento del algoritmo de aprendizaje por refuerzo es crear esta política, de forma que el robot logre alcanzar el objetivo deseado."
   ]
  },
  {
   "cell_type": "code",
   "execution_count": 585,
   "metadata": {},
   "outputs": [],
   "source": [
    "def crear_politica():\n",
    "    estados = [i for i in range(441)]\n",
    "    acciones = [0,1,2,3]\n",
    "    p = {}\n",
    "    for i in range(len(estados)):\n",
    "        p[estados[i]] = {}\n",
    "        for a in acciones:\n",
    "            p[estados[i]][a] = 1/4\n",
    "    return p"
   ]
  },
  {
   "cell_type": "markdown",
   "metadata": {},
   "source": [
    "Ahora creamos la función encargada de implementar el algoritmo de Monte Carlo de múltiples visitas. Puede leer la función para entender cómo actúa el algoritmo paso a paso."
   ]
  },
  {
   "cell_type": "code",
   "execution_count": 586,
   "metadata": {},
   "outputs": [],
   "source": [
    "def crear_retorno_multiple():\n",
    "    estados = [i for i in range(441)]\n",
    "    acciones = [0,1,2,3]\n",
    "    Q = {}\n",
    "    for i in range(len(estados)):\n",
    "        Q[estados[i]] = {}\n",
    "        for a in acciones:\n",
    "            Q[estados[i]][a] = [0,0]\n",
    "    return Q\n"
   ]
  },
  {
   "cell_type": "markdown",
   "metadata": {},
   "source": [
    "**Note que modificamos la función de monte carlo de multiples visitas para que se pueda recibir por parametro la función de valor q que guarda los valores esperados de las recompensas por cada par estado-acción. Esto se hace para que puedan crear multiples episodios de entrenamiento de forma que se pueda ir actualizando progresivamente la tabla con los valores estimados de la recompensa de cada par estado-acción.**"
   ]
  },
  {
   "cell_type": "code",
   "execution_count": 587,
   "metadata": {},
   "outputs": [],
   "source": [
    "import tqdm\n",
    "# Note que agregamos la posibilidad de que la funcion reciva por parametro una  función de valor\n",
    "#  q que guarda los valores esperados de las recompensas por cada par estado-acción -> funcion_q\n",
    "def monte_carlo_multiple_visita(episodios, p_viento, gamma, epsilon, funcion_q = None, epsilon_decay = 0.99999, pos_inicial = [1,1]):\n",
    "    #inicializar politica inicial\n",
    "    politica = crear_politica()\n",
    "    #inicializar funcion de valor de pares estado-accion q(s,a)\n",
    "    # si no se recibe una funcion de valor, se crea una\n",
    "    if funcion_q == None:\n",
    "        funcion_q = crear_q()\n",
    "    # inicializar lista de retornos para pares estado accion.\n",
    "    retornos = crear_retorno_multiple()\n",
    "    # print(len(retornos))\n",
    "    recompensa_promedio = []\n",
    "    acciones_promedio = []\n",
    "    for e in tqdm.tqdm(range(episodios)):\n",
    "        estados_ep, recompensas_ep, viento_ep, acciones_ep= crear_episodio(p_viento, funcion_q, epsilon, pos_inicial)\n",
    "        epsilon = max(0.1, epsilon*epsilon_decay)\n",
    "        #recompensa_promedio.append(retorno_ep)\n",
    "        G = 0\n",
    "        for esta in range(len(estados_ep)-1,-1,-1):\n",
    "            G = G*gamma + recompensas_ep[esta]\n",
    "            estado_actual = estados_ep[esta]\n",
    "            accion_tomada = acciones_ep[esta]\n",
    "            numero_retornos = retornos[estado_actual][accion_tomada][0]\n",
    "            valor_retornos = retornos[estado_actual][accion_tomada][1]\n",
    "            retornos[estado_actual][accion_tomada] = [numero_retornos+1, ((valor_retornos*numero_retornos)+G)/(numero_retornos+1)]\n",
    "            funcion_q[estado_actual][acciones_ep[esta]] = retornos[estado_actual][accion_tomada][1]\n",
    "        recompensa_promedio.append(G)\n",
    "        acciones_promedio.append(acciones_ep)\n",
    "        \n",
    "    return funcion_q, recompensa_promedio, acciones_promedio"
   ]
  },
  {
   "cell_type": "markdown",
   "metadata": {},
   "source": [
    "**A continuación, aplicamos nuestro algoritmo para entrenar a nuestro robot en el entorno discreto y generar las acciones óptimas que debe tomar.**\n",
    "\n",
    "**DEBE MODIFICAR ESTE CÓDIGO DE ACUERDO A SU ESTRATEGIA DE ENTRENAMIENTO!!!**"
   ]
  },
  {
   "cell_type": "code",
   "execution_count": 588,
   "metadata": {},
   "outputs": [
    {
     "name": "stderr",
     "output_type": "stream",
     "text": [
      "100%|██████████| 1/1 [00:00<00:00, 999.36it/s]\n"
     ]
    }
   ],
   "source": [
    "Q_041, recompensa_041_iter, acciones_mo_041_iter = monte_carlo_multiple_visita(1,0.0,1.0,0.3, None, 0.99,[19,1])"
   ]
  },
  {
   "cell_type": "code",
   "execution_count": 596,
   "metadata": {},
   "outputs": [
    {
     "name": "stdout",
     "output_type": "stream",
     "text": [
      "Posicion inicial:  [1, 1]\n"
     ]
    },
    {
     "name": "stderr",
     "output_type": "stream",
     "text": [
      "100%|██████████| 100000/100000 [07:12<00:00, 231.21it/s]\n"
     ]
    }
   ],
   "source": [
    "# Los parametros de la función son (numero de ejecuciones en el entrenamiento,\n",
    "#                                   Probabilidad de viento (Por ahora no es necesario esto),\n",
    "#                                   gamma (factor encargado de determinar la contribución de cada estado a la recompenza del episodio),\n",
    "#                                   epsilo (tasa de aprendizaje del robot))\n",
    "Q_041 = None\n",
    "# pos_iniciales = [[18,16], [11,16], [3,16], [6,6], [14,10], [1,19], [19,1], [1,1]]\n",
    "# pos_iniciales = [[19,16],[14,10],[12,16]]#,[1,15],[3,8],[4,6],[1,1],[1,19],[19,1]]\n",
    "pos_iniciales = [[1,1]]\n",
    "# pos_iniciales = [[19,1], [1,19], [1,1]]\n",
    "recompensa_041 = []\n",
    "acciones_mo_041 = []\n",
    "for pos_inicial in pos_iniciales:\n",
    "    print('Posicion inicial: ', pos_inicial)\n",
    "    if Q_041 is None:\n",
    "        Q_041, recompensa_041_iter, acciones_mo_041_iter = monte_carlo_multiple_visita(100000,0.0,1,0.9, None, 0.99999, pos_inicial)\n",
    "        recompensa_041.extend(recompensa_041_iter)\n",
    "        acciones_mo_041.extend(acciones_mo_041_iter)\n",
    "    else:\n",
    "        print(\"Usando Q_041 previamente entrenado\")\n",
    "        Q_041, recompensa_041_iter, acciones_mo_041_iter = monte_carlo_multiple_visita(100000,0.0,1,0.8, Q_041, 1, pos_inicial)\n",
    "        recompensa_041.extend(recompensa_041_iter)\n",
    "        acciones_mo_041.extend(acciones_mo_041_iter)\n",
    "    # Q_041, recompensa_041, acciones_mo_041 = monte_carlo_multiple_visita(5000000,0.0,1.0,0.5, None, 0.99999, pos_inicial)\n",
    "# Q_041, recompensa_041, acciones_mo_041 = monte_carlo_multiple_visita(5000000,0.0,1.0,0.5)"
   ]
  },
  {
   "cell_type": "code",
   "execution_count": 597,
   "metadata": {},
   "outputs": [],
   "source": [
    "# # guardar Q\n",
    "import pickle\n",
    "with open('Q_041_full_session11.pkl', 'wb') as f:\n",
    "    pickle.dump(Q_041, f)\n",
    "\n",
    "# # cargar Q\n",
    "# with open('Q_041_first.pkl', 'rb') as f:\n",
    "#     Q_041 = pickle.load(f)\n",
    "# len(recompensa_041)"
   ]
  },
  {
   "cell_type": "code",
   "execution_count": 591,
   "metadata": {},
   "outputs": [],
   "source": [
    "\n",
    "# # Weight decay\n",
    "# pos_iniciales = [[5,18],[7,19],[2,15],[1,19]]\n",
    "# # recompensa_041 = []\n",
    "# # acciones_mo_041 = []\n",
    "# for pos_inicial in pos_iniciales:\n",
    "#     print('Posicion inicial: ', pos_inicial)\n",
    "#     print(\"Usando Q_041 previamente entrenado\")\n",
    "\n",
    "#     Q_041, recompensa_041_iter, acciones_mo_041_iter = monte_carlo_multiple_visita(5000,0.0,0.99,0.9, Q_041, 0.999, pos_inicial)\n",
    "#     recompensa_041.extend(recompensa_041_iter)\n",
    "#     acciones_mo_041.extend(acciones_mo_041_iter)\n",
    "#     # Q_041, recompensa_041, acciones_mo_041 = monte_carlo_multiple_visita(5000000,0.0,1.0,0.5, None, 0.99999, pos_inicial)\n",
    "# # Q_041, recompensa_041, acciones_mo_041 = monte_carlo_multiple_visita(5000000,0.0,1.0,0.5)"
   ]
  },
  {
   "cell_type": "code",
   "execution_count": 570,
   "metadata": {},
   "outputs": [
    {
     "data": {
      "text/plain": [
       "320000"
      ]
     },
     "execution_count": 570,
     "metadata": {},
     "output_type": "execute_result"
    }
   ],
   "source": [
    "len(recompensa_041)"
   ]
  },
  {
   "cell_type": "markdown",
   "metadata": {},
   "source": [
    "Aca podemos ver la evolución de las recompensas recibidas durante la ejecución del entrenamiento."
   ]
  },
  {
   "cell_type": "code",
   "execution_count": null,
   "metadata": {},
   "outputs": [
    {
     "data": {
      "text/plain": [
       "1800000"
      ]
     },
     "execution_count": 476,
     "metadata": {},
     "output_type": "execute_result"
    }
   ],
   "source": [
    "# Q_041\n",
    "# len(recompensa_041)"
   ]
  },
  {
   "cell_type": "code",
   "execution_count": null,
   "metadata": {},
   "outputs": [
    {
     "name": "stdout",
     "output_type": "stream",
     "text": [
      "{0: -50.0, 1: -50.0, 2: -50.0, 3: -50.0}\n"
     ]
    }
   ],
   "source": [
    "# print(Q_041[40])"
   ]
  },
  {
   "cell_type": "code",
   "execution_count": 318,
   "metadata": {},
   "outputs": [],
   "source": [
    "# # guardar Q\n",
    "# import pickle\n",
    "# with open('Q_041_with_intermediate.pkl', 'wb') as f:\n",
    "#     pickle.dump(Q_041, f)"
   ]
  },
  {
   "cell_type": "code",
   "execution_count": 319,
   "metadata": {},
   "outputs": [],
   "source": [
    "# # cargar Q\n",
    "# with open('Q_041.pkl', 'rb') as f:\n",
    "#     Q_041 = pickle.load(f)"
   ]
  },
  {
   "cell_type": "code",
   "execution_count": 598,
   "metadata": {},
   "outputs": [
    {
     "name": "stdout",
     "output_type": "stream",
     "text": [
      "100000\n"
     ]
    },
    {
     "data": {
      "text/plain": [
       "Text(0.5, 0, 'Iteraciones')"
      ]
     },
     "execution_count": 598,
     "metadata": {},
     "output_type": "execute_result"
    },
    {
     "data": {
      "image/png": "[encoded data removed]",
      "text/plain": [
       "<Figure size 640x480 with 1 Axes>"
      ]
     },
     "metadata": {},
     "output_type": "display_data"
    }
   ],
   "source": [
    "print(len(recompensa_041))\n",
    "plt.scatter([i for i in range(len(recompensa_041))],recompensa_041)\n",
    "plt.title('Recompensa por iteraciones')\n",
    "plt.grid(True)\n",
    "plt.ylabel('Valor de la recompensa')\n",
    "plt.xlabel('Iteraciones')"
   ]
  },
  {
   "cell_type": "markdown",
   "metadata": {},
   "source": [
    "A continuación podemos ver la politica optima encontrada por el robot para completar la tarea propuesta."
   ]
  },
  {
   "cell_type": "code",
   "execution_count": 599,
   "metadata": {},
   "outputs": [
    {
     "name": "stdout",
     "output_type": "stream",
     "text": [
      "[['X' 'X' 'X' 'X' 'X' 'X' 'X' 'X' 'X' 'X' 'X' 'X' 'X' 'X' 'X' 'X' 'X' 'X'\n",
      "  'X' 'X' 'X']\n",
      " ['X' '-' '-' '-' '-' '-' '-' '-' '-' 'X' 'X' 'X' '-' '-' '-' '-' '-' '-'\n",
      "  '-' 'G' 'X']\n",
      " ['X' '-' '-' '-' '-' '-' '-' '-' '-' 'X' 'X' 'X' '-' '-' '-' '-' '-' '-'\n",
      "  '-' '-' 'X']\n",
      " ['X' '-' '-' '-' '-' '-' '-' '-' '-' 'X' 'X' 'X' '-' '-' '-' '-' '-' '-'\n",
      "  '-' '-' 'X']\n",
      " ['X' 'X' 'X' 'X' '-' '-' '-' '-' '-' '-' '-' '-' '-' '-' 'X' 'X' 'X' 'X'\n",
      "  'X' 'X' 'X']\n",
      " ['X' 'X' 'X' 'X' '-' '-' '-' '-' '-' '-' '-' '-' '-' '-' 'X' 'X' 'X' 'X'\n",
      "  'X' 'X' 'X']\n",
      " ['X' 'X' 'X' 'X' '-' '-' '-' '-' '-' '-' '-' '-' '-' '-' 'X' 'X' 'X' 'X'\n",
      "  'X' 'X' 'X']\n",
      " ['X' '-' '-' '-' '-' '-' 'X' 'X' 'X' '-' '-' '-' '-' '-' '-' '-' '-' '-'\n",
      "  'X' 'X' 'X']\n",
      " ['X' '-' '-' '-' '-' '-' 'X' 'X' 'X' '-' '-' '-' '-' '-' '-' '-' '-' '-'\n",
      "  'X' 'X' 'X']\n",
      " ['X' 'X' 'X' 'X' 'X' 'X' 'X' 'X' 'X' 'X' 'X' 'X' 'X' 'X' '-' '-' '-' '-'\n",
      "  'X' 'X' 'X']\n",
      " ['X' 'X' 'X' 'X' 'X' 'X' 'X' '-' '-' 'X' 'X' 'X' 'X' 'X' '-' '-' '-' '-'\n",
      "  '-' '-' 'X']\n",
      " ['X' 'X' 'X' 'X' 'X' 'X' 'X' '-' '-' 'X' 'X' 'X' 'X' 'X' '-' '-' '-' '-'\n",
      "  '-' '-' 'X']\n",
      " ['X' '-' '-' '-' '-' '-' '-' '-' '-' 'X' 'X' 'X' '-' '-' '-' 'X' 'X' 'X'\n",
      "  '-' '-' 'X']\n",
      " ['X' '-' '-' '-' '-' '-' '-' '-' '-' 'X' 'X' 'X' '-' '-' '-' 'X' 'X' 'X'\n",
      "  '-' '-' 'X']\n",
      " ['X' '-' '-' '-' 'o' '-' '-' '-' '-' 'X' 'X' 'X' 'X' 'X' '-' 'X' 'X' 'X'\n",
      "  '-' '-' 'X']\n",
      " ['X' '-' '-' '-' '-' '-' '-' '-' '-' '-' '-' 'X' 'X' 'X' '-' '-' '-' '-'\n",
      "  '-' '-' 'X']\n",
      " ['X' '-' '-' '-' '-' '-' '-' '-' '-' '-' '-' 'X' 'X' 'X' '-' '-' '-' '-'\n",
      "  '-' '-' 'X']\n",
      " ['X' '-' '-' '-' 'X' 'X' 'X' '-' '-' '-' '-' '-' '-' '-' '-' '-' '-' '-'\n",
      "  '-' '-' 'X']\n",
      " ['X' '-' '-' '-' 'X' 'X' 'X' '-' '-' '-' '-' '-' '-' '-' '-' '-' '-' '-'\n",
      "  '-' '-' 'X']\n",
      " ['X' '-' '-' '-' 'X' 'X' 'X' '-' '-' '-' '-' '-' '-' '-' '-' '-' '-' '-'\n",
      "  '-' '-' 'X']\n",
      " ['X' 'X' 'X' 'X' 'X' 'X' 'X' 'X' 'X' 'X' 'X' 'X' 'X' 'X' 'X' 'X' 'X' 'X'\n",
      "  'X' 'X' 'X']]\n",
      "State: 130\n",
      "Reward: 3.7962934456181188\n",
      "Action: 2\n"
     ]
    },
    {
     "ename": "KeyboardInterrupt",
     "evalue": "",
     "output_type": "error",
     "traceback": [
      "\u001b[1;31m---------------------------------------------------------------------------\u001b[0m",
      "\u001b[1;31mKeyboardInterrupt\u001b[0m                         Traceback (most recent call last)",
      "Cell \u001b[1;32mIn[599], line 39\u001b[0m\n\u001b[0;32m     37\u001b[0m \u001b[38;5;28mprint\u001b[39m(\u001b[38;5;124m'\u001b[39m\u001b[38;5;124mReward: \u001b[39m\u001b[38;5;124m'\u001b[39m\u001b[38;5;241m+\u001b[39m\u001b[38;5;28mstr\u001b[39m(reward))\n\u001b[0;32m     38\u001b[0m \u001b[38;5;28mprint\u001b[39m(\u001b[38;5;124m'\u001b[39m\u001b[38;5;124mAction: \u001b[39m\u001b[38;5;124m'\u001b[39m\u001b[38;5;241m+\u001b[39m\u001b[38;5;28mstr\u001b[39m(action))\n\u001b[1;32m---> 39\u001b[0m \u001b[43mtime\u001b[49m\u001b[38;5;241;43m.\u001b[39;49m\u001b[43msleep\u001b[49m\u001b[43m(\u001b[49m\u001b[38;5;241;43m1\u001b[39;49m\u001b[43m)\u001b[49m\n\u001b[0;32m     40\u001b[0m clear_output(wait\u001b[38;5;241m=\u001b[39m\u001b[38;5;28;01mTrue\u001b[39;00m)\n\u001b[0;32m     41\u001b[0m iteraciones \u001b[38;5;241m+\u001b[39m\u001b[38;5;241m=\u001b[39m \u001b[38;5;241m1\u001b[39m\n",
      "\u001b[1;31mKeyboardInterrupt\u001b[0m: "
     ]
    }
   ],
   "source": [
    "# Objeto del entorno\n",
    "# [12,16] \n",
    "env = RobotEnv(obstaculos= ubicacion_obstaculos_discreto, pos_inicial= [1,1])\n",
    "estados = []\n",
    "# Ciclo de 10 episodios\n",
    "acciones = []\n",
    "movimientos_coor = []\n",
    "for i in range(1):\n",
    "    # Nuevo episodio\n",
    "    print('------------------------------')\n",
    "    print('          EPISODE ' + str(i))\n",
    "    print('------------------------------')\n",
    "    time.sleep(1)\n",
    "    clear_output(wait=True)\n",
    "\n",
    "    # Se reinicia el entorno\n",
    "    env.reset()\n",
    "    # env.render()\n",
    "    done = False\n",
    "    state = 0\n",
    "    iteraciones = 0\n",
    "    while not done and iteraciones< 50:\n",
    "      # Se selecciona una acción aleatoria del espacio de acciones\n",
    "      action = seleccionar_accion(Q_041,state,0.0)\n",
    "      # Se da un paso en la acción seleccionada\n",
    "      acciones.append(action)\n",
    "      state, reward, done, info, coordenadas = env.step(action)\n",
    "      movimientos_coor.append(coordenadas)\n",
    "      estados.append(state)\n",
    "      # Se renderiza el etnrono\n",
    "      env.render()\n",
    "\n",
    "      # Se imprime información relevante\n",
    "      if info['wind']:\n",
    "        print('WIND!')\n",
    "      print('State: '+str(state))\n",
    "      print('Reward: '+str(reward))\n",
    "      print('Action: '+str(action))\n",
    "      time.sleep(1)\n",
    "      clear_output(wait=True)\n",
    "      iteraciones += 1\n",
    "\n",
    "env.close()"
   ]
  },
  {
   "cell_type": "markdown",
   "metadata": {},
   "source": [
    "Ahora podemos ver gráficamente el orden en el que el robot recorre el entorno discreto."
   ]
  },
  {
   "cell_type": "code",
   "execution_count": 353,
   "metadata": {},
   "outputs": [
    {
     "name": "stdout",
     "output_type": "stream",
     "text": [
      "Pasos realizados en el recorrido: \n",
      "\n",
      "[['2' '-' '-' '-' '-' '-' '-' '-' '-' '-']\n",
      " ['-' '-' '-' '-' '-' '-' '-' '-' '-' '-']\n",
      " ['1' '-' '-' '-' '-' '-' '-' '-' '-' '-']\n",
      " ['-' '-' '-' '-' '-' '-' '-' '-' '-' '-']\n",
      " ['0' '-' '-' '-' '-' '-' '-' '-' '-' '-']]\n"
     ]
    }
   ],
   "source": [
    "lista = ['-' for i in range(40000)]\n",
    "lista[0] = 0\n",
    "for i in range(len(estados)-1):\n",
    "    lista[estados[i]]= i+1\n",
    "\n",
    "\n",
    "m = np.array([lista[40:50],lista[30:40],lista[20:30],lista[10:20],lista[0:10]])\n",
    "# m = np.array([lista[20:25],lista[15:20],lista[10:15],lista[5:10],lista[0:5]])\n",
    "\n",
    "\n",
    "print('Pasos realizados en el recorrido: \\n')\n",
    "print(m)\n"
   ]
  },
  {
   "cell_type": "markdown",
   "metadata": {},
   "source": [
    "## Simulador Robótico."
   ]
  },
  {
   "cell_type": "markdown",
   "metadata": {},
   "source": [
    "Una vez entrenado nuestro controlador a alto nivel mediante aprendizaje por refuerzo, aplicaremos estas acciones en nuestro entorno virtual de trabajo a lo largo del curso."
   ]
  },
  {
   "cell_type": "code",
   "execution_count": 33,
   "metadata": {},
   "outputs": [],
   "source": [
    "\"\"\"\n",
    "Implimentación simulador robotico: Esta es una versión adaptada del simulador propuesto originalmente por: Paul O'Dowd y Hemma Philamore \n",
    "https://github.com/paulodowd/GoogleColab_Simple2DSimulator\n",
    "\"\"\"\n",
    "\n",
    "\n",
    "from math import *\n",
    "import numpy as np\n",
    "from random import shuffle, randrange\n",
    "import sys\n",
    "\n",
    "import matplotlib.pyplot as plt\n",
    "\n",
    "\"\"\"\n",
    "Creación de la clase que define los obstaculos. En nuestros escenarios los obstaculos tendran forma circular.\n",
    "\"\"\"\n",
    "\n",
    "class Obstacle_c: \n",
    "  # Se asigna una posición aleatoria dentro del entorno manteniendo una distancia con el centro (donde inicia el robot)\n",
    "  def __init__(self, x_prop, y_prop, arena_size=200, radius=1, rot=0.0, max_obstacles=1):\n",
    "\n",
    "    self.radius = radius\n",
    "\n",
    "\n",
    "    rot_ang = rot * ((np.pi*2)/max_obstacles)\n",
    "    \n",
    "    rand_dist = np.random.uniform(0.1, .7) * (arena_size/2)\n",
    "    #print('arena size',arena_size/2)\n",
    "    if x_prop<0 and y_prop<0:\n",
    "      self.x = (arena_size/2) + rand_dist*np.cos(rot_ang)\n",
    "      self.y = (arena_size/2) + rand_dist*np.sin(rot_ang)\n",
    "    else:\n",
    "      self.x = x_prop\n",
    "      self.y = y_prop\n",
    "\n",
    "\n",
    "\n",
    "\n",
    "\n",
    "\"\"\"\n",
    "Clase que define el funcionamiento de cada sensor de proximidad.\n",
    "\"\"\"\n",
    "class ProxSensor_c:\n",
    "\n",
    "  # Posición global en xy del sensor\n",
    "  x = 0\n",
    "  y = 0\n",
    "  theta = 0\n",
    "\n",
    "  # Para guardar la ultima lectura \n",
    "  reading = 0\n",
    "\n",
    "  # Localizar el sensor alrededor del cuerpo del robot\n",
    "  offset_dist = 0\n",
    "  offset_angl = 0\n",
    "\n",
    "  # maximo rango de lectura en cm\n",
    "  max_range = 20\n",
    "\n",
    "  \n",
    "  def __init__(self, offset_dist=5, offset_angl=0):\n",
    "    self.offset_dist = offset_dist\n",
    "    self.offset_angl = offset_angl\n",
    "\n",
    "\n",
    "  def updateGlobalPosition(self, robot_x, robot_y, robot_theta ):\n",
    "\n",
    "    # Dirección actual del sensor es la rotación del robot\n",
    "    # mas la rotación predeterminada del sensor en relación\n",
    "    # al cuerpo del robot.\n",
    "    self.theta = self.offset_angl + robot_theta\n",
    "\n",
    "    sensor_x = (self.offset_dist*np.cos(self.theta))\n",
    "    sensor_y = (self.offset_dist*np.sin(self.theta))\n",
    "\n",
    " \n",
    "    self.x = sensor_x + robot_x\n",
    "    self.y = sensor_y + robot_y\n",
    "\n",
    "    self.reading = -1\n",
    "\n",
    "  def scanFor( self, obstruction ):\n",
    "\n",
    "    # Escanear por posibles obstaculos\n",
    "    distance = np.sqrt( ((obstruction.x - self.x)**2) + ((obstruction.y - self.y)**2) )\n",
    "    distance = distance - obstruction.radius\n",
    "\n",
    "\n",
    "    # Si esta fuera de rango, no retorna nada\n",
    "    if distance > self.max_range:\n",
    "      return\n",
    "\n",
    "    a2o = atan2( ( obstruction.y - self.y), (obstruction.x-self.x ))\n",
    "\n",
    "    angle_between = atan2( sin(self.theta-a2o),  cos(self.theta-a2o) )\n",
    "    angle_between = abs( angle_between )\n",
    "\n",
    "    \n",
    "    if angle_between > np.pi/8:\n",
    "      return\n",
    "\n",
    "  \n",
    "    if self.reading < 0:\n",
    "      self.reading = distance\n",
    "\n",
    "\n",
    "    if self.reading > 0:\n",
    "      if distance < self.reading:\n",
    "        self.reading = distance\n",
    "\n",
    "\n",
    "\n",
    "\n",
    "\n",
    "\"\"\"\n",
    "Clase que define el funcionamiento del robot\n",
    "\"\"\"\n",
    "class Robot_c:\n",
    "\n",
    "\n",
    "  def __init__(self, x=50,y=50,theta=np.pi, objetivo = [190,190,5]):\n",
    "    self.x = x\n",
    "    self.y = y\n",
    "    self.theta = np.pi/4# theta\n",
    "    self.stall = -1 # evaluar colisiones\n",
    "\n",
    "    self.desire = -1\n",
    "    self.score = 0\n",
    "    self.radius = 5 # 5cm radio\n",
    "    self.wheel_sep = self.radius*2 # Mismo tamaño de rueda a cada lado\n",
    "    self.vl = 0\n",
    "    self.vr = 0\n",
    "    self.objetivo = objetivo\n",
    "    # ubicación de los sensores en radianes\n",
    "    self.sensor_dirs = [5.986479,\n",
    "                        5.410521,\n",
    "                        4.712389,\n",
    "                        3.665191,\n",
    "                        2.617994,\n",
    "                        1.570796,\n",
    "                        0.8726646,\n",
    "                        0.296706,\n",
    "                        ]\n",
    "\n",
    "    self.prox_sensors = [] \n",
    "    for i in range(0,8):\n",
    "      self.prox_sensors.append( ProxSensor_c(self.radius, self.sensor_dirs[i]) )\n",
    "\n",
    "\n",
    "  def updatePosition( self, vl, vr ):\n",
    "    '''\n",
    "    if vl > 1.0:\n",
    "      vl = 1.0\n",
    "    if vl < -1.0:\n",
    "      vl = -1.0\n",
    "    if vr > 1.0:\n",
    "      vr = 1.0\n",
    "    if vr < -1.0:\n",
    "      vr = -1.0\n",
    "\n",
    "    self.vl = vl\n",
    "    self.vr = vr\n",
    "    '''\n",
    "    self.stall = -1\n",
    "\n",
    "    # Matriz del movimiento del robot\n",
    "    r_matrix = [(vl/2)+(vr/2),0, (vr-vl)/self.wheel_sep]\n",
    "\n",
    "    # Matriz para convertir referencia local a referencia global\n",
    "    k_matrix = [\n",
    "                [ np.cos(self.theta),-np.sin(self.theta),0],\n",
    "                [ np.sin(self.theta), np.cos(self.theta),0],\n",
    "                [0,0,1]\n",
    "               ]\n",
    "\n",
    "    result_matrix = np.matmul( k_matrix, r_matrix)\n",
    "\n",
    "    self.x += result_matrix[0]\n",
    "    self.y += result_matrix[1]\n",
    "    self.theta += result_matrix[2]\n",
    "\n",
    "    for prox_sensor in self.prox_sensors:\n",
    "      prox_sensor.updateGlobalPosition( self.x, self.y, self.theta )\n",
    "\n",
    "\n",
    "\n",
    "  \n",
    "  def updateSensors(self, obstruction ):\n",
    "\n",
    "    for prox_sensor in self.prox_sensors:\n",
    "      prox_sensor.scanFor( obstruction )\n",
    "\n",
    "  def collisionCheck(self, obstruction ):\n",
    "    distance = np.sqrt( ((obstruction.x - self.x)**2) + ((obstruction.y - self.y)**2) )\n",
    "    distance -= self.radius\n",
    "    distance -= obstruction.radius\n",
    "    if distance < 0:\n",
    "      self.stall = 1\n",
    "      angle = atan2( obstruction.y - self.y, obstruction.x - self.x)\n",
    "      self.x += distance * np.cos(angle)\n",
    "      self.y += distance * np.sin(angle)\n",
    "\n",
    "  def updateScore(self):\n",
    "    # Se define la metrica a usar para evaluar el desempeño.\n",
    "    new_score = 0\n",
    "    if self.desire == -1:\n",
    "        if abs(self.x -self.objetivo[0]) < self.objetivo[2] and abs(self.y -self.objetivo[1]) < self.objetivo[2] :\n",
    "            new_score = 100\n",
    "            self.desire = 1\n",
    "        if self.stall == 1:\n",
    "            new_score -= 5\n",
    "    self.score += new_score\n"
   ]
  },
  {
   "cell_type": "markdown",
   "metadata": {},
   "source": [
    "### Ahora creamos el controlador a bajo nivel encargado de llevar al robot a una posicion especifica\n",
    "\n",
    "**Puede usar el código como esta o modificarlo, es su elección!!!**"
   ]
  },
  {
   "cell_type": "code",
   "execution_count": 359,
   "metadata": {},
   "outputs": [],
   "source": [
    "#\n",
    "# Crear un controlador con def update(self, robot):\n",
    "#\n",
    "#\n",
    "\n",
    "#\n",
    "class Controller_c:\n",
    "\n",
    "  # Esta función es llamada repetidamente para definir las acciones que debe tomar el robot.\n",
    "  def __init__(self):\n",
    "    self.giroAntes = False\n",
    "    self.angulo = 0\n",
    "\n",
    "  def update( self, my_robot , objetivo, ubicado = False):\n",
    "\n",
    "    vect_obj = np.array([objetivo[0]-my_robot.x, objetivo[1]-my_robot.y])\n",
    "    vect_rob = np.array([np.cos(my_robot.theta), np.sin(my_robot.theta) ])\n",
    "    distancia_angulo = (vect_rob[1]*vect_obj[0] -vect_rob[0]*vect_obj[1] )/(np.sqrt(vect_rob[0]**2 + vect_rob[1]**2))\n",
    "    coseno = np.dot(vect_obj, vect_rob)/(np.linalg.norm(vect_rob)*np.linalg.norm(vect_obj))\n",
    "    coseno = np.clip(coseno, -1, 1)\n",
    "    angulo = np.arccos(coseno) * np.sign(distancia_angulo)\n",
    "    # my_robot.desire es -1 si no ha llegado al objetivo, 1 de lo contrario\n",
    "    if my_robot.desire == -1:\n",
    "      if ubicado:\n",
    "          vl = 1\n",
    "          vr = 1\n",
    "      else:\n",
    "          if angulo >  0.05:\n",
    "              vl =0.1#*abs(angulo)\n",
    "              vr = -0.1#*abs(angulo)\n",
    "          elif angulo < - 0.02:\n",
    "              vl = -0.1#*abs(angulo)\n",
    "              vr = 0.1#*abs(angulo)\n",
    "          else:\n",
    "              ubicado = True\n",
    "              vl = 1\n",
    "              vr = 1\n",
    "    else:\n",
    "      vl = 0\n",
    "      vr = 0\n",
    "    \n",
    "      \n",
    "    \n",
    "\n",
    "    # El controlador siempre debe retornar esto, asi que no cambie la siguente linea\n",
    "    return vl, vr\n",
    "\n"
   ]
  },
  {
   "cell_type": "markdown",
   "metadata": {},
   "source": [
    "Volvemos a ejecutar la politica optima del robot, encontrada a alto nivel por el aprendizaje por refuerzo \n"
   ]
  },
  {
   "cell_type": "code",
   "execution_count": 360,
   "metadata": {},
   "outputs": [
    {
     "name": "stdout",
     "output_type": "stream",
     "text": [
      "[['-' '-' '-' '-' '-' '-' '-' '-' '-' '-' '-' '-' '-' '-' '-' '-' '-' '-'\n",
      "  '-' 'o']\n",
      " ['-' '-' '-' '-' '-' '-' '-' '-' '-' '-' 'X' '-' '-' '-' '-' '-' '-' '-'\n",
      "  '-' '-']\n",
      " ['-' '-' '-' '-' '-' '-' '-' '-' '-' '-' '-' '-' '-' '-' '-' '-' '-' '-'\n",
      "  '-' '-']\n",
      " ['-' '-' '-' '-' '-' '-' '-' '-' '-' '-' '-' '-' '-' '-' '-' '-' '-' '-'\n",
      "  '-' '-']\n",
      " ['-' '-' 'X' '-' '-' '-' '-' '-' '-' '-' '-' '-' '-' '-' '-' 'X' '-' '-'\n",
      "  'X' '-']\n",
      " ['-' '-' '-' '-' '-' '-' '-' '-' '-' '-' '-' '-' '-' '-' '-' '-' '-' '-'\n",
      "  '-' '-']\n",
      " ['-' '-' '-' '-' '-' '-' '-' '-' '-' '-' '-' '-' '-' '-' '-' '-' '-' '-'\n",
      "  '-' '-']\n",
      " ['-' '-' '-' '-' '-' '-' '-' 'X' '-' '-' '-' '-' '-' '-' '-' '-' '-' '-'\n",
      "  '-' 'X']\n",
      " ['-' '-' '-' '-' '-' '-' '-' '-' '-' '-' '-' '-' '-' '-' '-' '-' '-' '-'\n",
      "  '-' '-']\n",
      " ['-' '-' 'X' '-' '-' 'X' '-' '-' '-' '-' 'X' '-' 'X' '-' '-' '-' '-' '-'\n",
      "  '-' '-']\n",
      " ['-' '-' '-' '-' '-' '-' '-' '-' '-' '-' '-' '-' '-' '-' '-' '-' '-' '-'\n",
      "  '-' '-']\n",
      " ['-' '-' '-' '-' '-' '-' '-' '-' '-' '-' '-' '-' '-' '-' '-' '-' '-' '-'\n",
      "  '-' '-']\n",
      " ['-' '-' '-' '-' '-' '-' '-' '-' '-' '-' 'X' '-' '-' '-' '-' '-' 'X' '-'\n",
      "  '-' '-']\n",
      " ['-' '-' '-' '-' '-' '-' '-' '-' '-' '-' '-' '-' '-' '-' '-' '-' '-' '-'\n",
      "  '-' '-']\n",
      " ['-' '-' '-' '-' '-' '-' '-' '-' '-' '-' '-' '-' 'X' '-' '-' '-' '-' '-'\n",
      "  '-' '-']\n",
      " ['-' '-' '-' '-' '-' '-' '-' '-' '-' '-' '-' '-' '-' '-' '-' '-' '-' '-'\n",
      "  '-' '-']\n",
      " ['-' '-' '-' '-' '-' '-' '-' '-' '-' '-' '-' '-' '-' '-' '-' '-' '-' '-'\n",
      "  '-' '-']\n",
      " ['-' '-' '-' '-' '-' 'X' '-' '-' '-' '-' '-' '-' '-' '-' '-' '-' '-' '-'\n",
      "  '-' '-']\n",
      " ['-' '-' '-' '-' '-' '-' '-' '-' '-' '-' '-' '-' '-' '-' '-' '-' '-' '-'\n",
      "  '-' '-']\n",
      " ['-' '-' '-' '-' '-' '-' '-' '-' '-' '-' '-' '-' '-' '-' '-' '-' '-' '-'\n",
      "  '-' '-']]\n",
      "State: 399\n",
      "Reward: 1000\n",
      "Action: 0\n"
     ]
    }
   ],
   "source": [
    "# Objeto del entorno\n",
    "env = RobotEnv(obstaculos= ubicacion_obstaculos_discreto)\n",
    "estados = []\n",
    "# Ciclo de 10 episodios\n",
    "acciones = []\n",
    "movimientos_coor = []\n",
    "for i in range(1):\n",
    "    # Nuevo episodio\n",
    "    print('------------------------------')\n",
    "    print('          EPISODE ' + str(i))\n",
    "    print('------------------------------')\n",
    "    time.sleep(1)\n",
    "    clear_output(wait=True)\n",
    "\n",
    "    # Se reinicia el entorno\n",
    "    env.reset()\n",
    "    done = False\n",
    "    state = 0\n",
    "    iteraciones = 0\n",
    "    while not done and iteraciones< 200:\n",
    "      # Se selecciona una acción aleatoria del espacio de acciones\n",
    "      action = seleccionar_accion(Q_041,state,0.0)\n",
    "      # Se da un paso en la acción seleccionada\n",
    "      acciones.append(action)\n",
    "      state, reward, done, info, coordenadas = env.step(action)\n",
    "      movimientos_coor.append(coordenadas)\n",
    "      estados.append(state)\n",
    "      # Se renderiza el etnrono\n",
    "      env.render()\n",
    "\n",
    "      # Se imprime información relevante\n",
    "      if info['wind']:\n",
    "        print('WIND!')\n",
    "      print('State: '+str(state))\n",
    "      print('Reward: '+str(reward))\n",
    "      print('Action: '+str(action))\n",
    "      time.sleep(1)\n",
    "      clear_output(wait=True)\n",
    "      iteraciones += 1\n",
    "\n",
    "env.close()"
   ]
  },
  {
   "cell_type": "code",
   "execution_count": 361,
   "metadata": {},
   "outputs": [
    {
     "name": "stdout",
     "output_type": "stream",
     "text": [
      "[['1' '-' '-' '-' '-']\n",
      " ['-' '-' '-' '-' '-']\n",
      " ['-' '-' '-' '-' '-']\n",
      " ['-' '-' '-' '-' '-']\n",
      " ['0' '-' '-' '-' '-']]\n"
     ]
    }
   ],
   "source": [
    "m = np.array([lista[20:25],lista[15:20],lista[10:15],lista[5:10],lista[0:5]])\n",
    "print(m)"
   ]
  },
  {
   "cell_type": "markdown",
   "metadata": {},
   "source": [
    "\n",
    "\n",
    "**Dentro del contexto del proyecto tendrán que modificar el código que asocia los estados discretizados que desarrollo en su modelo con los centros del mapa original en donde se encuentra el agente** \n",
    "\n",
    "**TIENE QUE MODIFICAR ESTE CODIGO!!!!**\n"
   ]
  },
  {
   "cell_type": "code",
   "execution_count": 372,
   "metadata": {},
   "outputs": [
    {
     "name": "stdout",
     "output_type": "stream",
     "text": [
      "Objetivos progresivos:  [[10, 20], [10, 30], [10, 40], [20, 40], [30, 40], [40, 40], [50, 40], [50, 50], [50, 60], [50, 70], [60, 70], [70, 70], [70, 80], [70, 90], [80, 90], [80, 100], [90, 100], [90, 110], [90, 120], [100, 120], [100, 130], [100, 140], [110, 140], [110, 150], [120, 150], [120, 160], [120, 170], [130, 170], [130, 180], [140, 180], [140, 190], [150, 190], [150, 200], [160, 200], [170, 200], [180, 200], [190, 200], [200, 200]]\n"
     ]
    }
   ],
   "source": [
    "# Creamos la matriz que nos asocia los centros del ambiente original con las coorednadas del ambiente discreto\n",
    "# centros = [[[i,j] for i in range(10,91,20)] for j in range(10,91,20)]\n",
    "centros = [[[i,j] for i in range(10,380,10)] for j in range(10,380,10)]\n",
    "\n",
    "# Ahora guardamos las ubicaciones progresivas de acuerdo a la politica optima dada por el aprendizaje por refuerzo\n",
    "objetivos_progresivos =[]\n",
    "for mov in range(len(movimientos_coor)):\n",
    "    #print(centros[movimientos_coor[mov][0]][movimientos_coor[mov][1]])\n",
    "    objetivos_progresivos.append(centros[movimientos_coor[mov][0]][movimientos_coor[mov][1]])\n",
    "print(\"Objetivos progresivos: \",objetivos_progresivos)\n",
    "\n",
    "# PUEDE BORRAR ESTA LINEA PARA SUS EJECUCIONES\n",
    "# objetivos_progresivos = [\n",
    "#     [20, 20],   # Esquina inferior izquierda\n",
    "#     [20, 180],  # Esquina superior izquierda \n",
    "#     [180, 20],  # Esquina inferior derecha\n",
    "#     # Puedes agregar más posiciones según necesites\n",
    "# ]\n",
    "\n"
   ]
  },
  {
   "cell_type": "code",
   "execution_count": 373,
   "metadata": {},
   "outputs": [
    {
     "data": {
      "text/plain": [
       "38"
      ]
     },
     "execution_count": 373,
     "metadata": {},
     "output_type": "execute_result"
    }
   ],
   "source": [
    "len(movimientos_coor)"
   ]
  },
  {
   "cell_type": "code",
   "execution_count": 375,
   "metadata": {},
   "outputs": [
    {
     "data": {
      "text/plain": [
       "[19, 19]"
      ]
     },
     "execution_count": 375,
     "metadata": {},
     "output_type": "execute_result"
    }
   ],
   "source": [
    "movimientos_coor[-1]"
   ]
  },
  {
   "cell_type": "markdown",
   "metadata": {},
   "source": [
    "Definimos la ubicación de los obstaculos presentes en el ambiente"
   ]
  },
  {
   "cell_type": "code",
   "execution_count": 30,
   "metadata": {},
   "outputs": [],
   "source": [
    "ub_obstacles = np.array([ [20,50], [100,100], [100, 20], [100, 50], [125, 75], [150, 150], [150,20], [150,180],[75,100],\n",
    "                         [50,125], [100, 125],[150,25], [75,160],[180,100],[125,190]])\n",
    "\n",
    "\n",
    "\n",
    "\n",
    "num_obstacles = len(ub_obstacles)"
   ]
  },
  {
   "cell_type": "code",
   "execution_count": 251,
   "metadata": {},
   "outputs": [],
   "source": [
    "# ub_obstacles//10"
   ]
  },
  {
   "cell_type": "code",
   "execution_count": 31,
   "metadata": {},
   "outputs": [],
   "source": [
    "def hacer_reja():\n",
    "    inicio = 0\n",
    "    fin = 200\n",
    "    ubicaciones = []\n",
    "    for i in range(inicio,fin):\n",
    "        ubicaciones.append([inicio,i])\n",
    "        ubicaciones.append([fin,i])\n",
    "        ubicaciones.append([i,fin])\n",
    "        #if i> inicio+50:\n",
    "        ubicaciones.append([i, inicio])\n",
    "    return ubicaciones\n",
    "\n",
    "\n",
    "\n",
    "ub_obstacles2 = hacer_reja()\n",
    "num_obstacles2 = len(ub_obstacles2)"
   ]
  },
  {
   "cell_type": "markdown",
   "metadata": {},
   "source": [
    "Por último, implementamos nuestra combinación de control a alto y bajo nivel en el entorno final del robot. Como podrá ver, utilizamos el controlador definido anteriormente junto con los objetivos progresivos detectados por el algoritmo de aprendizaje por refuerzo.\n",
    "\n",
    "**TIENE QUE MODIFICAR ESTE CÓDIGO PARA UBICAR AL ROBOT EN LAS DISTINTAS POSICIONES INICIALES DESCRITAS ANTERIORMENTE**"
   ]
  },
  {
   "cell_type": "code",
   "execution_count": 34,
   "metadata": {},
   "outputs": [
    {
     "name": "stderr",
     "output_type": "stream",
     "text": [
      "C:\\Users\\vic_p\\AppData\\Local\\Temp\\ipykernel_23128\\2001434693.py:45: UserWarning: color is redundantly defined by the 'color' keyword argument and the fmt string \"r-\" (-> color='r'). The keyword argument will take precedence.\n",
      "  gui_dir, = ax.plot([], [], 'r-', c=\"yellow\")\n",
      "C:\\Users\\vic_p\\AppData\\Local\\Temp\\ipykernel_23128\\2001434693.py:46: UserWarning: color is redundantly defined by the 'color' keyword argument and the fmt string \"r-\" (-> color='r'). The keyword argument will take precedence.\n",
      "  gui_sensor = ax.plot( *[[],[]]*num_sensors,'r-', c=\"red\")\n",
      "C:\\Users\\vic_p\\AppData\\Local\\Temp\\ipykernel_23128\\2001434693.py:51: UserWarning: color is redundantly defined by the 'color' keyword argument and the fmt string \"bo\" (-> color='b'). The keyword argument will take precedence.\n",
      "  gui_obstacles, = ax.plot([],[],'bo', ms=radio_obstaculos*2, c=\"orange\")\n",
      "C:\\Users\\vic_p\\AppData\\Local\\Temp\\ipykernel_23128\\2001434693.py:52: UserWarning: color is redundantly defined by the 'color' keyword argument and the fmt string \"bo\" (-> color='b'). The keyword argument will take precedence.\n",
      "  gui_obstacles2, = ax.plot([],[],'bo', ms=radio_obstaculos2*2, c=\"orange\")\n"
     ]
    },
    {
     "ename": "NameError",
     "evalue": "name 'Controller_c' is not defined",
     "output_type": "error",
     "traceback": [
      "\u001b[1;31m---------------------------------------------------------------------------\u001b[0m",
      "\u001b[1;31mNameError\u001b[0m                                 Traceback (most recent call last)",
      "Cell \u001b[1;32mIn[34], line 76\u001b[0m\n\u001b[0;32m     73\u001b[0m gui_obstacles2\u001b[38;5;241m.\u001b[39mset_data( obstacles_xy2[:,\u001b[38;5;241m0\u001b[39m], obstacles_xy2[:,\u001b[38;5;241m1\u001b[39m]  )\n\u001b[0;32m     75\u001b[0m \u001b[38;5;66;03m# ¡Una instancia de nuestro controlador!\u001b[39;00m\n\u001b[1;32m---> 76\u001b[0m my_controller \u001b[38;5;241m=\u001b[39m \u001b[43mController_c\u001b[49m()\n\u001b[0;32m     77\u001b[0m ind_objetivo\u001b[38;5;241m=\u001b[39m \u001b[38;5;241m0\u001b[39m\n\u001b[0;32m     78\u001b[0m objetivo_actual \u001b[38;5;241m=\u001b[39m objetivos_progresivos[ind_objetivo]\n",
      "\u001b[1;31mNameError\u001b[0m: name 'Controller_c' is not defined"
     ]
    },
    {
     "data": {
      "image/png": "[encoded data removed]",
      "text/plain": [
       "<Figure size 768x576 with 1 Axes>"
      ]
     },
     "metadata": {},
     "output_type": "display_data"
    }
   ],
   "source": [
    "# Ahora guaramos las ubicaciones de los obstaculos de acuerdo al entorno discretizado\n",
    "# obstacles_xy = []\n",
    "# for ob in ubicacion_obstaculos_discreto:\n",
    "#    obstacles_xy.append(centros[ob[0]][ob[1]])\n",
    "obstacles_xy = ub_obstacles\n",
    "\n",
    "#print('Los obstaculos del entorno estan en: ', obstacles_xy)\n",
    "\n",
    "\n",
    "import numpy as np\n",
    "import matplotlib.pyplot as plt\n",
    "import matplotlib.animation as animation\n",
    "\n",
    "%matplotlib inline\n",
    "\n",
    "from matplotlib import rc\n",
    "rc('animation', html='jshtml')\n",
    "import matplotlib\n",
    "matplotlib.rcParams['animation.embed_limit'] = 2**128\n",
    "\n",
    "\n",
    "numframes = 1#600\n",
    "arena_width = 200\n",
    "#num_obstacles = 3\n",
    "num_sensors = 8\n",
    "\n",
    "\n",
    "\n",
    "fig = plt.figure(dpi=120)\n",
    "#fig.subplots_adjust(left=0, right=1, bottom=0, top=1)\n",
    "ax = fig.add_subplot(111, aspect='equal', autoscale_on=False,\n",
    "                     xlim=(0, arena_width), ylim=(0, arena_width))\n",
    "\n",
    "\n",
    "\n",
    "objetivo = [190, 190,2] # 2 es el radio del objetivo\n",
    "ax.scatter(objetivo[0], objetivo[1], s = 1*objetivo[2]**2, color = \"black\", marker='s')\n",
    "#my_robot = Robot_c(10,10,np.random.random()*np.pi*2, objetivo)\n",
    "\n",
    "## Defina la posicion inicial del robot\n",
    "my_robot = Robot_c(10,10,np.pi/4, objetivo)\n",
    "\n",
    "gui_robot, = ax.plot([], [], 'bo', ms=my_robot.radius*2)\n",
    "gui_robot.set_data([], [])\n",
    "gui_dir, = ax.plot([], [], 'r-', c=\"yellow\")\n",
    "gui_sensor = ax.plot( *[[],[]]*num_sensors,'r-', c=\"red\")\n",
    "\n",
    "radio_obstaculos = 10\n",
    "radio_obstaculos2 = 1.25\n",
    "\n",
    "gui_obstacles, = ax.plot([],[],'bo', ms=radio_obstaculos*2, c=\"orange\")\n",
    "gui_obstacles2, = ax.plot([],[],'bo', ms=radio_obstaculos2*2, c=\"orange\")\n",
    "\n",
    "\n",
    "#gui_obstacles, = ax.plot([],[],'bo', ms=2.25, c=\"orange\")\n",
    "\n",
    "obstacles = []\n",
    "num_obstacles = 0\n",
    "#obstacles_xy = [[50,50],[90,10],[10,90]]\n",
    "for i in range( num_obstacles ):\n",
    "  obstacles.append( Obstacle_c(obstacles_xy[i][0],obstacles_xy[i][1], arena_width, radio_obstaculos, i, num_obstacles) )\n",
    "  #obstacles_xy.append( [obstacles[i].x, obstacles[i].y] )\n",
    "\n",
    "obstacles_xy = np.asarray( obstacles_xy, dtype=float)\n",
    "gui_obstacles.set_data( obstacles_xy[:,0], obstacles_xy[:,1]  )\n",
    "\n",
    "obstacles_xy2 =[]\n",
    "for i in range( num_obstacles2 ):\n",
    "  obstacles.append( Obstacle_c(ub_obstacles2[i][0],ub_obstacles2[i][1], arena_width, radio_obstaculos2, i, num_obstacles2) )\n",
    "  obstacles_xy2.append( [obstacles[num_obstacles+i].x, obstacles[num_obstacles+i].y] )\n",
    "\n",
    "obstacles_xy2 = np.asarray( obstacles_xy2, dtype=float)\n",
    "gui_obstacles2.set_data( obstacles_xy2[:,0], obstacles_xy2[:,1]  )\n",
    "\n",
    "# ¡Una instancia de nuestro controlador!\n",
    "my_controller = Controller_c()\n",
    "ind_objetivo= 0\n",
    "objetivo_actual = objetivos_progresivos[ind_objetivo]\n",
    "\n",
    "def animate(i):\n",
    "\n",
    "    global ax, fig, objetivos_progresivos, objetivo_actual, ind_objetivo\n",
    "\n",
    "\n",
    "    # Usar el controlador para establecer nuevas velocidades del motor en\n",
    "    # rango [-1.0:+1.0]\n",
    "    if abs(my_robot.x-objetivo_actual[0]) < 0.2 and abs(my_robot.y-objetivo_actual[1]) < 0.2:\n",
    "      #if objetivo_actual[0] != objetivo[0] and objetivo_actual[1] != objetivo[1]: \n",
    "      ind_objetivo +=1\n",
    "      if ind_objetivo< len(objetivos_progresivos):\n",
    "        objetivo_actual = objetivos_progresivos[ind_objetivo]\n",
    "    #print(objetivo_actual)\n",
    "    vl, vr = my_controller.update( my_robot, objetivo_actual )\n",
    "\n",
    "    # Update robot position, check for collision,\n",
    "    # then update sensors.\n",
    "    my_robot.updatePosition(vl, vr)\n",
    "    for obstacle in obstacles:\n",
    "      my_robot.collisionCheck( obstacle )\n",
    "      my_robot.updateSensors( obstacle )\n",
    "\n",
    "    # Dibuja el robot, cambia el color para la colisión\n",
    "    gui_robot.set_data([my_robot.x], [my_robot.y])\n",
    "    if my_robot.stall == 1:\n",
    "      gui_robot.set_color(\"red\")\n",
    "    else:\n",
    "      gui_robot.set_color(\"blue\")\n",
    "\n",
    "    # Dibuja un pequeño indicador para que podamos ver qué\n",
    "    # mira el robot\n",
    "    tx = my_robot.x + (my_robot.radius*1.4*np.cos(my_robot.theta))\n",
    "    ty = my_robot.y + (my_robot.radius*1.4*np.sin(my_robot.theta))\n",
    "    gui_dir.set_data( (my_robot.x,tx), (my_robot.y, ty) )\n",
    "\n",
    "\n",
    "\n",
    "    # Actualiza la puntuación actual en el título\n",
    "    my_robot.updateScore()\n",
    "    #ax.set_title('Score: {0:f}'.format( my_robot.score ))\n",
    "\n",
    "    return gui_robot,\n",
    "\n",
    "plt.close()\n",
    "ani = animation.FuncAnimation(fig, animate, frames=numframes, interval=20, blit=True)\n",
    "ani\n",
    "\n",
    "\n",
    "#plt.show(ani)"
   ]
  },
  {
   "cell_type": "code",
   "execution_count": null,
   "metadata": {},
   "outputs": [],
   "source": []
  },
  {
   "cell_type": "markdown",
   "metadata": {},
   "source": [
    "# Entrega final"
   ]
  },
  {
   "cell_type": "markdown",
   "metadata": {},
   "source": [
    "Finalmente, recuerde que debe entregar un PDF con la explicación del diseño de la estrategia heurística y el análisis de los resultados obtenidos, donde analice los siguientes aspectos:\n",
    "Resultados, presente conclusiones sobre el desempeño del modelo, detecte fallos en el controlador utilizado y proponga posibles mejoras. Además, debe responder a las siguientes preguntas:\n",
    "\n",
    "\n",
    "* ¿Qué restricciones impone utilizar un algoritmo de aprendizaje por refuerzo para planear la trayectoria del robot?\n",
    "* ¿Qué pasaría si se agregan mas obstaculos que el robot no conocia en su fase de entrenamiento?\n",
    "* ¿Cómo podría complementar este código con los diseñados en las semanas 3 y 5 para resolver entornos mas complejos?\n",
    "\n",
    "\n"
   ]
  }
 ],
 "metadata": {
  "kernelspec": {
   "display_name": ".venv",
   "language": "python",
   "name": "python3"
  },
  "language_info": {
   "codemirror_mode": {
    "name": "ipython",
    "version": 3
   },
   "file_extension": ".py",
   "mimetype": "text/x-python",
   "name": "python",
   "nbconvert_exporter": "python",
   "pygments_lexer": "ipython3",
   "version": "3.9.13"
  }
 },
 "nbformat": 4,
 "nbformat_minor": 2
}
